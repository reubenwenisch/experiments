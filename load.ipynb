{
 "cells": [
  {
   "source": [
    "## Import Datasets"
   ],
   "cell_type": "markdown",
   "metadata": {}
  },
  {
   "cell_type": "code",
   "metadata": {
    "cell_id": "00000-35a449a1-5fb2-44f2-9155-e4775fb2169e",
    "deepnote_to_be_reexecuted": false,
    "source_hash": "50097857",
    "execution_start": 1620395032056,
    "execution_millis": 1151,
    "deepnote_cell_type": "code"
   },
   "source": [
    "import torch\n",
    "import torchvision\n",
    "#from torchvision.datasets import CIFAR10\n",
    "from torchvision.datasets import MNIST\n",
    "from torchvision import transforms\n",
    "from torch.utils.data import DataLoader\n",
    "from model import Alexnet, MyModule\n",
    "from utils import matplotlib_imshow, plot_classes_preds, \n",
    "from labml import tracker, experiment\n",
    "\n",
    "import torch.nn as nn\n",
    "import torch.nn.functional as F\n",
    "import torch.optim as optim\n",
    "\n",
    "from torch.utils.tensorboard import SummaryWriter\n",
    "# default `log_dir` is \"runs\" - we'll be more specific here\n",
    "writer = SummaryWriter('runs/mnist')\n",
    "#from cv2_plt_imshow import matplotlib_imshow"
   ],
   "execution_count": 1,
   "outputs": []
  },
  {
   "source": [
    "## Transform data"
   ],
   "cell_type": "markdown",
   "metadata": {}
  },
  {
   "cell_type": "code",
   "metadata": {
    "cell_id": "00001-4ca534f2-1c0c-434e-b761-1deaa620281e",
    "deepnote_to_be_reexecuted": false,
    "source_hash": "2c230893",
    "execution_start": 1620395034184,
    "execution_millis": 1,
    "deepnote_cell_type": "code"
   },
   "source": [
    "pipeline = transforms.Compose([transforms.ToTensor()])\n",
    "device = torch.device('cuda:0' if torch.cuda.is_available() else 'cpu')"
   ],
   "execution_count": 2,
   "outputs": []
  },
  {
   "source": [
    "## Load Data and break them into batches"
   ],
   "cell_type": "markdown",
   "metadata": {}
  },
  {
   "cell_type": "code",
   "metadata": {
    "tags": [],
    "cell_id": "00002-50938f93-2581-4b98-9c8e-6ec58e3ab361",
    "deepnote_to_be_reexecuted": false,
    "source_hash": "8ac73eff",
    "execution_start": 1620395036032,
    "execution_millis": 112,
    "deepnote_cell_type": "code"
   },
   "source": [
    "data_train = MNIST('mnist', download = True, train = True, transform= pipeline)\n",
    "data_test = MNIST('mnist', download = True, train = False, transform= pipeline)\n",
    "trainloader = DataLoader(data_train, batch_size=16, shuffle=True)\n",
    "testloader = DataLoader(data_test, batch_size=16, shuffle=False)\n",
    "train_iter = iter(trainloader)\n",
    "images, labels = train_iter.next()"
   ],
   "execution_count": 3,
   "outputs": []
  },
  {
   "cell_type": "code",
   "execution_count": 4,
   "metadata": {},
   "outputs": [
    {
     "output_type": "display_data",
     "data": {
      "text/plain": "<Figure size 432x288 with 1 Axes>",
      "image/svg+xml": "<?xml version=\"1.0\" encoding=\"utf-8\" standalone=\"no\"?>\n<!DOCTYPE svg PUBLIC \"-//W3C//DTD SVG 1.1//EN\"\n  \"http://www.w3.org/Graphics/SVG/1.1/DTD/svg11.dtd\">\n<!-- Created with matplotlib (https://matplotlib.org/) -->\n<svg height=\"119.960815pt\" version=\"1.1\" viewBox=\"0 0 368.925 119.960815\" width=\"368.925pt\" xmlns=\"http://www.w3.org/2000/svg\" xmlns:xlink=\"http://www.w3.org/1999/xlink\">\n <metadata>\n  <rdf:RDF xmlns:cc=\"http://creativecommons.org/ns#\" xmlns:dc=\"http://purl.org/dc/elements/1.1/\" xmlns:rdf=\"http://www.w3.org/1999/02/22-rdf-syntax-ns#\">\n   <cc:Work>\n    <dc:type rdf:resource=\"http://purl.org/dc/dcmitype/StillImage\"/>\n    <dc:date>2021-05-15T12:07:58.730478</dc:date>\n    <dc:format>image/svg+xml</dc:format>\n    <dc:creator>\n     <cc:Agent>\n      <dc:title>Matplotlib v3.3.1, https://matplotlib.org/</dc:title>\n     </cc:Agent>\n    </dc:creator>\n   </cc:Work>\n  </rdf:RDF>\n </metadata>\n <defs>\n  <style type=\"text/css\">*{stroke-linecap:butt;stroke-linejoin:round;}</style>\n </defs>\n <g id=\"figure_1\">\n  <g id=\"patch_1\">\n   <path d=\"M -0 119.960815 \nL 368.925 119.960815 \nL 368.925 0 \nL -0 0 \nz\n\" style=\"fill:none;\"/>\n  </g>\n  <g id=\"axes_1\">\n   <g id=\"patch_2\">\n    <path d=\"M 26.925 96.08269 \nL 361.725 96.08269 \nL 361.725 10.307483 \nL 26.925 10.307483 \nz\n\" style=\"fill:#ffffff;\"/>\n   </g>\n   <g clip-path=\"url(#pcb3d21e0c1)\">\n    <image height=\"86\" id=\"imageb5930d1c17\" transform=\"scale(1 -1)translate(0 -86)\" width=\"335\" x=\"26.925\" xlink:href=\"data:image/png;base64,\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\" y=\"-10.08269\"/>\n   </g>\n   <g id=\"matplotlib.axis_1\">\n    <g id=\"xtick_1\">\n     <g id=\"line2d_1\">\n      <defs>\n       <path d=\"M 0 0 \nL 0 3.5 \n\" id=\"me5a5e8a66f\" style=\"stroke:#000000;stroke-width:0.8;\"/>\n      </defs>\n      <g>\n       <use style=\"stroke:#000000;stroke-width:0.8;\" x=\"27.616736\" xlink:href=\"#me5a5e8a66f\" y=\"96.08269\"/>\n      </g>\n     </g>\n     <g id=\"text_1\">\n      <!-- 0 -->\n      <g transform=\"translate(24.435486 110.681127)scale(0.1 -0.1)\">\n       <defs>\n        <path d=\"M 31.78125 66.40625 \nQ 24.171875 66.40625 20.328125 58.90625 \nQ 16.5 51.421875 16.5 36.375 \nQ 16.5 21.390625 20.328125 13.890625 \nQ 24.171875 6.390625 31.78125 6.390625 \nQ 39.453125 6.390625 43.28125 13.890625 \nQ 47.125 21.390625 47.125 36.375 \nQ 47.125 51.421875 43.28125 58.90625 \nQ 39.453125 66.40625 31.78125 66.40625 \nz\nM 31.78125 74.21875 \nQ 44.046875 74.21875 50.515625 64.515625 \nQ 56.984375 54.828125 56.984375 36.375 \nQ 56.984375 17.96875 50.515625 8.265625 \nQ 44.046875 -1.421875 31.78125 -1.421875 \nQ 19.53125 -1.421875 13.0625 8.265625 \nQ 6.59375 17.96875 6.59375 36.375 \nQ 6.59375 54.828125 13.0625 64.515625 \nQ 19.53125 74.21875 31.78125 74.21875 \nz\n\" id=\"DejaVuSans-48\"/>\n       </defs>\n       <use xlink:href=\"#DejaVuSans-48\"/>\n      </g>\n     </g>\n    </g>\n    <g id=\"xtick_2\">\n     <g id=\"line2d_2\">\n      <g>\n       <use style=\"stroke:#000000;stroke-width:0.8;\" x=\"96.790289\" xlink:href=\"#me5a5e8a66f\" y=\"96.08269\"/>\n      </g>\n     </g>\n     <g id=\"text_2\">\n      <!-- 50 -->\n      <g transform=\"translate(90.427789 110.681127)scale(0.1 -0.1)\">\n       <defs>\n        <path d=\"M 10.796875 72.90625 \nL 49.515625 72.90625 \nL 49.515625 64.59375 \nL 19.828125 64.59375 \nL 19.828125 46.734375 \nQ 21.96875 47.46875 24.109375 47.828125 \nQ 26.265625 48.1875 28.421875 48.1875 \nQ 40.625 48.1875 47.75 41.5 \nQ 54.890625 34.8125 54.890625 23.390625 \nQ 54.890625 11.625 47.5625 5.09375 \nQ 40.234375 -1.421875 26.90625 -1.421875 \nQ 22.3125 -1.421875 17.546875 -0.640625 \nQ 12.796875 0.140625 7.71875 1.703125 \nL 7.71875 11.625 \nQ 12.109375 9.234375 16.796875 8.0625 \nQ 21.484375 6.890625 26.703125 6.890625 \nQ 35.15625 6.890625 40.078125 11.328125 \nQ 45.015625 15.765625 45.015625 23.390625 \nQ 45.015625 31 40.078125 35.4375 \nQ 35.15625 39.890625 26.703125 39.890625 \nQ 22.75 39.890625 18.8125 39.015625 \nQ 14.890625 38.140625 10.796875 36.28125 \nz\n\" id=\"DejaVuSans-53\"/>\n       </defs>\n       <use xlink:href=\"#DejaVuSans-53\"/>\n       <use x=\"63.623047\" xlink:href=\"#DejaVuSans-48\"/>\n      </g>\n     </g>\n    </g>\n    <g id=\"xtick_3\">\n     <g id=\"line2d_3\">\n      <g>\n       <use style=\"stroke:#000000;stroke-width:0.8;\" x=\"165.963843\" xlink:href=\"#me5a5e8a66f\" y=\"96.08269\"/>\n      </g>\n     </g>\n     <g id=\"text_3\">\n      <!-- 100 -->\n      <g transform=\"translate(156.420093 110.681127)scale(0.1 -0.1)\">\n       <defs>\n        <path d=\"M 12.40625 8.296875 \nL 28.515625 8.296875 \nL 28.515625 63.921875 \nL 10.984375 60.40625 \nL 10.984375 69.390625 \nL 28.421875 72.90625 \nL 38.28125 72.90625 \nL 38.28125 8.296875 \nL 54.390625 8.296875 \nL 54.390625 0 \nL 12.40625 0 \nz\n\" id=\"DejaVuSans-49\"/>\n       </defs>\n       <use xlink:href=\"#DejaVuSans-49\"/>\n       <use x=\"63.623047\" xlink:href=\"#DejaVuSans-48\"/>\n       <use x=\"127.246094\" xlink:href=\"#DejaVuSans-48\"/>\n      </g>\n     </g>\n    </g>\n    <g id=\"xtick_4\">\n     <g id=\"line2d_4\">\n      <g>\n       <use style=\"stroke:#000000;stroke-width:0.8;\" x=\"235.137397\" xlink:href=\"#me5a5e8a66f\" y=\"96.08269\"/>\n      </g>\n     </g>\n     <g id=\"text_4\">\n      <!-- 150 -->\n      <g transform=\"translate(225.593647 110.681127)scale(0.1 -0.1)\">\n       <use xlink:href=\"#DejaVuSans-49\"/>\n       <use x=\"63.623047\" xlink:href=\"#DejaVuSans-53\"/>\n       <use x=\"127.246094\" xlink:href=\"#DejaVuSans-48\"/>\n      </g>\n     </g>\n    </g>\n    <g id=\"xtick_5\">\n     <g id=\"line2d_5\">\n      <g>\n       <use style=\"stroke:#000000;stroke-width:0.8;\" x=\"304.31095\" xlink:href=\"#me5a5e8a66f\" y=\"96.08269\"/>\n      </g>\n     </g>\n     <g id=\"text_5\">\n      <!-- 200 -->\n      <g transform=\"translate(294.7672 110.681127)scale(0.1 -0.1)\">\n       <defs>\n        <path d=\"M 19.1875 8.296875 \nL 53.609375 8.296875 \nL 53.609375 0 \nL 7.328125 0 \nL 7.328125 8.296875 \nQ 12.9375 14.109375 22.625 23.890625 \nQ 32.328125 33.6875 34.8125 36.53125 \nQ 39.546875 41.84375 41.421875 45.53125 \nQ 43.3125 49.21875 43.3125 52.78125 \nQ 43.3125 58.59375 39.234375 62.25 \nQ 35.15625 65.921875 28.609375 65.921875 \nQ 23.96875 65.921875 18.8125 64.3125 \nQ 13.671875 62.703125 7.8125 59.421875 \nL 7.8125 69.390625 \nQ 13.765625 71.78125 18.9375 73 \nQ 24.125 74.21875 28.421875 74.21875 \nQ 39.75 74.21875 46.484375 68.546875 \nQ 53.21875 62.890625 53.21875 53.421875 \nQ 53.21875 48.921875 51.53125 44.890625 \nQ 49.859375 40.875 45.40625 35.40625 \nQ 44.1875 33.984375 37.640625 27.21875 \nQ 31.109375 20.453125 19.1875 8.296875 \nz\n\" id=\"DejaVuSans-50\"/>\n       </defs>\n       <use xlink:href=\"#DejaVuSans-50\"/>\n       <use x=\"63.623047\" xlink:href=\"#DejaVuSans-48\"/>\n       <use x=\"127.246094\" xlink:href=\"#DejaVuSans-48\"/>\n      </g>\n     </g>\n    </g>\n   </g>\n   <g id=\"matplotlib.axis_2\">\n    <g id=\"ytick_1\">\n     <g id=\"line2d_6\">\n      <defs>\n       <path d=\"M 0 0 \nL -3.5 0 \n\" id=\"ma5a9f8badc\" style=\"stroke:#000000;stroke-width:0.8;\"/>\n      </defs>\n      <g>\n       <use style=\"stroke:#000000;stroke-width:0.8;\" x=\"26.925\" xlink:href=\"#ma5a9f8badc\" y=\"10.999219\"/>\n      </g>\n     </g>\n     <g id=\"text_6\">\n      <!-- 0 -->\n      <g transform=\"translate(13.5625 14.798437)scale(0.1 -0.1)\">\n       <use xlink:href=\"#DejaVuSans-48\"/>\n      </g>\n     </g>\n    </g>\n    <g id=\"ytick_2\">\n     <g id=\"line2d_7\">\n      <g>\n       <use style=\"stroke:#000000;stroke-width:0.8;\" x=\"26.925\" xlink:href=\"#ma5a9f8badc\" y=\"38.66864\"/>\n      </g>\n     </g>\n     <g id=\"text_7\">\n      <!-- 20 -->\n      <g transform=\"translate(7.2 42.467859)scale(0.1 -0.1)\">\n       <use xlink:href=\"#DejaVuSans-50\"/>\n       <use x=\"63.623047\" xlink:href=\"#DejaVuSans-48\"/>\n      </g>\n     </g>\n    </g>\n    <g id=\"ytick_3\">\n     <g id=\"line2d_8\">\n      <g>\n       <use style=\"stroke:#000000;stroke-width:0.8;\" x=\"26.925\" xlink:href=\"#ma5a9f8badc\" y=\"66.338062\"/>\n      </g>\n     </g>\n     <g id=\"text_8\">\n      <!-- 40 -->\n      <g transform=\"translate(7.2 70.13728)scale(0.1 -0.1)\">\n       <defs>\n        <path d=\"M 37.796875 64.3125 \nL 12.890625 25.390625 \nL 37.796875 25.390625 \nz\nM 35.203125 72.90625 \nL 47.609375 72.90625 \nL 47.609375 25.390625 \nL 58.015625 25.390625 \nL 58.015625 17.1875 \nL 47.609375 17.1875 \nL 47.609375 0 \nL 37.796875 0 \nL 37.796875 17.1875 \nL 4.890625 17.1875 \nL 4.890625 26.703125 \nz\n\" id=\"DejaVuSans-52\"/>\n       </defs>\n       <use xlink:href=\"#DejaVuSans-52\"/>\n       <use x=\"63.623047\" xlink:href=\"#DejaVuSans-48\"/>\n      </g>\n     </g>\n    </g>\n    <g id=\"ytick_4\">\n     <g id=\"line2d_9\">\n      <g>\n       <use style=\"stroke:#000000;stroke-width:0.8;\" x=\"26.925\" xlink:href=\"#ma5a9f8badc\" y=\"94.007483\"/>\n      </g>\n     </g>\n     <g id=\"text_9\">\n      <!-- 60 -->\n      <g transform=\"translate(7.2 97.806702)scale(0.1 -0.1)\">\n       <defs>\n        <path d=\"M 33.015625 40.375 \nQ 26.375 40.375 22.484375 35.828125 \nQ 18.609375 31.296875 18.609375 23.390625 \nQ 18.609375 15.53125 22.484375 10.953125 \nQ 26.375 6.390625 33.015625 6.390625 \nQ 39.65625 6.390625 43.53125 10.953125 \nQ 47.40625 15.53125 47.40625 23.390625 \nQ 47.40625 31.296875 43.53125 35.828125 \nQ 39.65625 40.375 33.015625 40.375 \nz\nM 52.59375 71.296875 \nL 52.59375 62.3125 \nQ 48.875 64.0625 45.09375 64.984375 \nQ 41.3125 65.921875 37.59375 65.921875 \nQ 27.828125 65.921875 22.671875 59.328125 \nQ 17.53125 52.734375 16.796875 39.40625 \nQ 19.671875 43.65625 24.015625 45.921875 \nQ 28.375 48.1875 33.59375 48.1875 \nQ 44.578125 48.1875 50.953125 41.515625 \nQ 57.328125 34.859375 57.328125 23.390625 \nQ 57.328125 12.15625 50.6875 5.359375 \nQ 44.046875 -1.421875 33.015625 -1.421875 \nQ 20.359375 -1.421875 13.671875 8.265625 \nQ 6.984375 17.96875 6.984375 36.375 \nQ 6.984375 53.65625 15.1875 63.9375 \nQ 23.390625 74.21875 37.203125 74.21875 \nQ 40.921875 74.21875 44.703125 73.484375 \nQ 48.484375 72.75 52.59375 71.296875 \nz\n\" id=\"DejaVuSans-54\"/>\n       </defs>\n       <use xlink:href=\"#DejaVuSans-54\"/>\n       <use x=\"63.623047\" xlink:href=\"#DejaVuSans-48\"/>\n      </g>\n     </g>\n    </g>\n   </g>\n   <g id=\"patch_3\">\n    <path d=\"M 26.925 96.08269 \nL 26.925 10.307483 \n\" style=\"fill:none;stroke:#000000;stroke-linecap:square;stroke-linejoin:miter;stroke-width:0.8;\"/>\n   </g>\n   <g id=\"patch_4\">\n    <path d=\"M 361.725 96.08269 \nL 361.725 10.307483 \n\" style=\"fill:none;stroke:#000000;stroke-linecap:square;stroke-linejoin:miter;stroke-width:0.8;\"/>\n   </g>\n   <g id=\"patch_5\">\n    <path d=\"M 26.925 96.08269 \nL 361.725 96.08269 \n\" style=\"fill:none;stroke:#000000;stroke-linecap:square;stroke-linejoin:miter;stroke-width:0.8;\"/>\n   </g>\n   <g id=\"patch_6\">\n    <path d=\"M 26.925 10.307483 \nL 361.725 10.307483 \n\" style=\"fill:none;stroke:#000000;stroke-linecap:square;stroke-linejoin:miter;stroke-width:0.8;\"/>\n   </g>\n  </g>\n </g>\n <defs>\n  <clipPath id=\"pcb3d21e0c1\">\n   <rect height=\"85.775207\" width=\"334.8\" x=\"26.925\" y=\"10.307483\"/>\n  </clipPath>\n </defs>\n</svg>\n",
      "image/png": "[encoded data removed]"
     },
     "metadata": {
      "needs_background": "light"
     }
    }
   ],
   "source": [
    "# create grid of images\n",
    "img_grid = torchvision.utils.make_grid(images)\n",
    "\n",
    "# show images\n",
    "matplotlib_imshow(img_grid)\n",
    "\n",
    "# write to tensorboard\n",
    "writer.add_image('mnist_images', img_grid)"
   ]
  },
  {
   "source": [
    "## Add projector to tensorboard"
   ],
   "cell_type": "markdown",
   "metadata": {}
  },
  {
   "cell_type": "code",
   "execution_count": 5,
   "metadata": {},
   "outputs": [],
   "source": [
    "# helper function\n",
    "def select_n_random(data, labels, n=100):\n",
    "    '''\n",
    "    Selects n random datapoints and their corresponding labels from a dataset\n",
    "    '''\n",
    "    assert len(data) == len(labels)\n",
    "\n",
    "    perm = torch.randperm(len(data))\n",
    "    return data[perm][:n], labels[perm][:n]"
   ]
  },
  {
   "cell_type": "code",
   "execution_count": 6,
   "metadata": {},
   "outputs": [],
   "source": [
    "import tensorflow as tf\n",
    "import tensorboard as tb\n",
    "tf.io.gfile = tb.compat.tensorflow_stub.io.gfile"
   ]
  },
  {
   "cell_type": "code",
   "execution_count": 7,
   "metadata": {},
   "outputs": [
    {
     "output_type": "stream",
     "name": "stdout",
     "text": [
      "warning: Embedding dir exists, did you set global_step for add_embedding()?\n"
     ]
    }
   ],
   "source": [
    "# constant for classes\n",
    "classes = ('T-shirt/top', 'Trouser', 'Pullover', 'Dress', 'Coat',\n",
    "        'Sandal', 'Shirt', 'Sneaker', 'Bag', 'Ankle Boot')\n",
    "# select random images and their target indices\n",
    "imagesx, labels = select_n_random(data_train.data, data_train.targets)\n",
    "\n",
    "# get the class labels for each image\n",
    "class_labels = [classes[lab] for lab in labels]\n",
    "\n",
    "# log embeddings\n",
    "features = imagesx.view(-1, 28 * 28)\n",
    "writer.add_embedding(features,\n",
    "                    metadata=labels,\n",
    "                    label_img=imagesx.unsqueeze(1))\n",
    "writer.close()"
   ]
  },
  {
   "cell_type": "code",
   "execution_count": 8,
   "metadata": {
    "tags": []
   },
   "outputs": [],
   "source": [
    "#!tensorboard --logdir=runs"
   ]
  },
  {
   "source": [
    "## Load model"
   ],
   "cell_type": "markdown",
   "metadata": {}
  },
  {
   "cell_type": "code",
   "metadata": {
    "tags": [],
    "cell_id": "00006-49f19df2-98df-49fd-adde-2592fa70a3e3",
    "deepnote_to_be_reexecuted": false,
    "source_hash": "4a477473",
    "execution_start": 1620395200174,
    "execution_millis": 93,
    "deepnote_cell_type": "code"
   },
   "source": [
    "#net = Alexnet()\n",
    "net = MyModule().to(device)\n",
    "optimizer = torch.optim.Adam(net.parameters(), lr=1e-2)\n",
    "criterion = nn.CrossEntropyLoss()"
   ],
   "execution_count": 9,
   "outputs": []
  },
  {
   "cell_type": "code",
   "execution_count": 10,
   "metadata": {},
   "outputs": [],
   "source": [
    "writer.add_graph(net, images)\n",
    "writer.close()"
   ]
  },
  {
   "source": [
    "## Train Loop"
   ],
   "cell_type": "markdown",
   "metadata": {}
  },
  {
   "cell_type": "code",
   "metadata": {
    "tags": [],
    "cell_id": "00007-49234b19-7ff9-48a1-911e-f1cfccc6957b",
    "deepnote_cell_type": "code"
   },
   "source": [
    "# loop over the dataset multiple times\n",
    "#with experiment.record(name='sample', exp_conf=conf):\n",
    "def train(net, trainloader, optimizer, epoch=5):\n",
    "    net.train()\n",
    "    for epoch in range(epoch):\n",
    "        running_loss = 0.0\n",
    "        correct = 0\n",
    "        total = 0\n",
    "        for batch_idx, data in enumerate(trainloader, 0):   \n",
    "            inputs, labels = data\n",
    "            inputs, labels = inputs.to(device), labels.to(device)\n",
    "            # zero the parameter gradients\n",
    "            optimizer.zero_grad()\n",
    "            # forward + backward + optimize\n",
    "            outputs = net(inputs)\n",
    "            loss = criterion(outputs, labels)\n",
    "            loss.backward()\n",
    "            optimizer.step()\n",
    "            running_loss += loss.item()\n",
    "\n",
    "                    # the class with the highest energy is what we choose as prediction\n",
    "            _, predicted = torch.max(outputs.data, 1)\n",
    "            total += labels.size(0)\n",
    "            correct += (predicted == labels).sum().item()\n",
    "            if batch_idx % 1000 == 999:    # every 1000 mini-batches...\n",
    "                print('Train Epoch: {} [{}/{} ({:.0f}%)]\\tLoss: {:.6f}'.format(epoch, batch_idx * len(data), len(trainloader.dataset),\n",
    "                100. * batch_idx / len(trainloader), loss.item()))\n",
    "                # ...log the running loss\n",
    "                writer.add_scalar('training loss', running_loss / 1000, epoch * len(trainloader) + batch_idx)\n",
    "                # ...log a Matplotlib Figure showing the model's predictions on a\n",
    "                # random mini-batch\n",
    "                writer.add_figure('predictions vs. actuals', plot_classes_preds(net, inputs, labels, classes),          global_step=epoch* len(trainloader) + batch_idx)\n",
    "                print('Accuracy of the network: %d %%' % (100 * correct / total))\n",
    "                writer.add_scalar('training accuracy', (100 * correct / total))\n",
    "                running_loss = 0.0\n",
    "        print('Loss: {}'.format(running_loss))\n",
    "    print('Finished Training')"
   ],
   "execution_count": 13,
   "outputs": []
  },
  {
   "cell_type": "code",
   "execution_count": 14,
   "metadata": {},
   "outputs": [
    {
     "output_type": "stream",
     "name": "stdout",
     "text": [
      "Train Epoch: 0 [1998/60000 (27%)]\tLoss: 0.584805\n",
      "Train Epoch: 0 [3998/60000 (53%)]\tLoss: 0.010692\n",
      "Train Epoch: 0 [5998/60000 (80%)]\tLoss: 0.139291\n",
      "Loss: 103.05937508604256\n",
      "Train Epoch: 1 [1998/60000 (27%)]\tLoss: 0.004618\n",
      "Train Epoch: 1 [3998/60000 (53%)]\tLoss: 0.000014\n",
      "Train Epoch: 1 [5998/60000 (80%)]\tLoss: 0.239570\n",
      "Loss: 101.82252689422057\n",
      "Train Epoch: 2 [1998/60000 (27%)]\tLoss: 0.005013\n",
      "Train Epoch: 2 [3998/60000 (53%)]\tLoss: 0.069302\n",
      "Train Epoch: 2 [5998/60000 (80%)]\tLoss: 0.001116\n",
      "Loss: 77.51070348472604\n",
      "Train Epoch: 3 [1998/60000 (27%)]\tLoss: 0.005728\n",
      "Train Epoch: 3 [3998/60000 (53%)]\tLoss: 0.020411\n",
      "Train Epoch: 3 [5998/60000 (80%)]\tLoss: 0.158194\n",
      "Loss: 76.27738984924235\n",
      "Train Epoch: 4 [1998/60000 (27%)]\tLoss: 0.018512\n",
      "Train Epoch: 4 [3998/60000 (53%)]\tLoss: 0.037790\n",
      "Train Epoch: 4 [5998/60000 (80%)]\tLoss: 0.011429\n",
      "Loss: 83.46801477650683\n",
      "Train Epoch: 5 [1998/60000 (27%)]\tLoss: 0.018448\n",
      "Train Epoch: 5 [3998/60000 (53%)]\tLoss: 0.003289\n",
      "Train Epoch: 5 [5998/60000 (80%)]\tLoss: 0.236736\n",
      "Loss: 84.74201948631048\n",
      "Train Epoch: 6 [1998/60000 (27%)]\tLoss: 0.010765\n",
      "Train Epoch: 6 [3998/60000 (53%)]\tLoss: 0.034379\n",
      "Train Epoch: 6 [5998/60000 (80%)]\tLoss: 0.004800\n",
      "Loss: 82.70340078518925\n",
      "Train Epoch: 7 [1998/60000 (27%)]\tLoss: 0.156511\n",
      "Train Epoch: 7 [3998/60000 (53%)]\tLoss: 0.455912\n",
      "Train Epoch: 7 [5998/60000 (80%)]\tLoss: 0.010103\n",
      "Loss: 82.76594101859519\n",
      "Train Epoch: 8 [1998/60000 (27%)]\tLoss: 0.018687\n",
      "Train Epoch: 8 [3998/60000 (53%)]\tLoss: 0.004780\n",
      "Train Epoch: 8 [5998/60000 (80%)]\tLoss: 0.258500\n",
      "Loss: 90.73390448900304\n",
      "Train Epoch: 9 [1998/60000 (27%)]\tLoss: 0.277038\n",
      "Train Epoch: 9 [3998/60000 (53%)]\tLoss: 0.011926\n",
      "Train Epoch: 9 [5998/60000 (80%)]\tLoss: 0.065755\n",
      "Loss: 85.88337672045486\n",
      "Train Epoch: 10 [1998/60000 (27%)]\tLoss: 0.000851\n",
      "Train Epoch: 10 [3998/60000 (53%)]\tLoss: 0.053044\n",
      "Train Epoch: 10 [5998/60000 (80%)]\tLoss: 0.002294\n",
      "Loss: 67.02912232041052\n",
      "Train Epoch: 11 [1998/60000 (27%)]\tLoss: 0.021525\n",
      "Train Epoch: 11 [3998/60000 (53%)]\tLoss: 0.195544\n",
      "Train Epoch: 11 [5998/60000 (80%)]\tLoss: 0.000168\n",
      "Loss: 79.64979987164546\n",
      "Train Epoch: 12 [1998/60000 (27%)]\tLoss: 0.027446\n",
      "Train Epoch: 12 [3998/60000 (53%)]\tLoss: 0.000042\n",
      "Train Epoch: 12 [5998/60000 (80%)]\tLoss: 0.323947\n",
      "Loss: 65.67221507548382\n",
      "Train Epoch: 13 [1998/60000 (27%)]\tLoss: 0.058497\n",
      "Train Epoch: 13 [3998/60000 (53%)]\tLoss: 0.014245\n",
      "Train Epoch: 13 [5998/60000 (80%)]\tLoss: 0.234765\n",
      "Loss: 63.41597191221638\n",
      "Train Epoch: 14 [1998/60000 (27%)]\tLoss: 0.559067\n",
      "Train Epoch: 14 [3998/60000 (53%)]\tLoss: 0.000869\n",
      "Train Epoch: 14 [5998/60000 (80%)]\tLoss: 0.003794\n",
      "Loss: 59.098319147172965\n",
      "Train Epoch: 15 [1998/60000 (27%)]\tLoss: 0.013670\n",
      "Train Epoch: 15 [3998/60000 (53%)]\tLoss: 0.000045\n",
      "Train Epoch: 15 [5998/60000 (80%)]\tLoss: 0.000406\n",
      "Loss: 54.063640273554455\n",
      "Train Epoch: 16 [1998/60000 (27%)]\tLoss: 0.000939\n",
      "Train Epoch: 16 [3998/60000 (53%)]\tLoss: 0.001718\n",
      "Train Epoch: 16 [5998/60000 (80%)]\tLoss: 0.000070\n",
      "Loss: 63.701178863898846\n",
      "Train Epoch: 17 [1998/60000 (27%)]\tLoss: 0.163327\n",
      "Train Epoch: 17 [3998/60000 (53%)]\tLoss: 0.002665\n",
      "Train Epoch: 17 [5998/60000 (80%)]\tLoss: 0.007635\n",
      "Loss: 61.04542682329199\n",
      "Train Epoch: 18 [1998/60000 (27%)]\tLoss: 0.164498\n",
      "Train Epoch: 18 [3998/60000 (53%)]\tLoss: 0.278615\n",
      "Train Epoch: 18 [5998/60000 (80%)]\tLoss: 0.050006\n",
      "Loss: 61.25814418078943\n",
      "Train Epoch: 19 [1998/60000 (27%)]\tLoss: 0.106958\n",
      "Train Epoch: 19 [3998/60000 (53%)]\tLoss: 0.107683\n",
      "Train Epoch: 19 [5998/60000 (80%)]\tLoss: 0.000830\n",
      "Loss: 72.93736063316041\n",
      "Train Epoch: 20 [1998/60000 (27%)]\tLoss: 0.087876\n",
      "Train Epoch: 20 [3998/60000 (53%)]\tLoss: 0.382180\n",
      "Train Epoch: 20 [5998/60000 (80%)]\tLoss: 0.002568\n",
      "Loss: 80.1993275327549\n",
      "Train Epoch: 21 [1998/60000 (27%)]\tLoss: 0.003107\n",
      "Train Epoch: 21 [3998/60000 (53%)]\tLoss: 0.251136\n",
      "Train Epoch: 21 [5998/60000 (80%)]\tLoss: 0.001272\n",
      "Loss: 50.120483475525376\n",
      "Train Epoch: 22 [1998/60000 (27%)]\tLoss: 0.106602\n",
      "Train Epoch: 22 [3998/60000 (53%)]\tLoss: 0.005519\n",
      "Train Epoch: 22 [5998/60000 (80%)]\tLoss: 0.010549\n",
      "Loss: 56.642790405503696\n",
      "Train Epoch: 23 [1998/60000 (27%)]\tLoss: 0.008742\n",
      "Train Epoch: 23 [3998/60000 (53%)]\tLoss: 0.005361\n",
      "Train Epoch: 23 [5998/60000 (80%)]\tLoss: 0.042283\n",
      "Loss: 56.79916199968726\n",
      "Train Epoch: 24 [1998/60000 (27%)]\tLoss: 0.629831\n",
      "Train Epoch: 24 [3998/60000 (53%)]\tLoss: 0.065887\n",
      "Train Epoch: 24 [5998/60000 (80%)]\tLoss: 0.000000\n",
      "Loss: 71.41225523621907\n",
      "Train Epoch: 25 [1998/60000 (27%)]\tLoss: 0.007598\n",
      "Train Epoch: 25 [3998/60000 (53%)]\tLoss: 0.002900\n",
      "Train Epoch: 25 [5998/60000 (80%)]\tLoss: 0.000003\n",
      "Loss: 71.45681731896417\n",
      "Train Epoch: 26 [1998/60000 (27%)]\tLoss: 0.054210\n",
      "Train Epoch: 26 [3998/60000 (53%)]\tLoss: 0.000037\n",
      "Train Epoch: 26 [5998/60000 (80%)]\tLoss: 0.000051\n",
      "Loss: 61.18701805678882\n",
      "Train Epoch: 27 [1998/60000 (27%)]\tLoss: 0.152038\n",
      "Train Epoch: 27 [3998/60000 (53%)]\tLoss: 0.000014\n",
      "Train Epoch: 27 [5998/60000 (80%)]\tLoss: 0.121780\n",
      "Loss: 65.89086947550766\n",
      "Train Epoch: 28 [1998/60000 (27%)]\tLoss: 0.167864\n",
      "Train Epoch: 28 [3998/60000 (53%)]\tLoss: 0.379148\n",
      "Train Epoch: 28 [5998/60000 (80%)]\tLoss: 0.000000\n",
      "Loss: 75.4524090359578\n",
      "Train Epoch: 29 [1998/60000 (27%)]\tLoss: 0.000102\n",
      "Train Epoch: 29 [3998/60000 (53%)]\tLoss: 0.086819\n",
      "Train Epoch: 29 [5998/60000 (80%)]\tLoss: 0.049666\n",
      "Loss: 69.42070540854562\n",
      "Train Epoch: 30 [1998/60000 (27%)]\tLoss: 0.003220\n",
      "Train Epoch: 30 [3998/60000 (53%)]\tLoss: 0.000263\n",
      "Train Epoch: 30 [5998/60000 (80%)]\tLoss: 0.263995\n",
      "Loss: 62.913934588935746\n",
      "Train Epoch: 31 [1998/60000 (27%)]\tLoss: 0.000091\n",
      "Train Epoch: 31 [3998/60000 (53%)]\tLoss: 0.005723\n",
      "Train Epoch: 31 [5998/60000 (80%)]\tLoss: 0.037152\n",
      "Loss: 60.91572504138846\n",
      "Train Epoch: 32 [1998/60000 (27%)]\tLoss: 0.000000\n",
      "Train Epoch: 32 [3998/60000 (53%)]\tLoss: 0.141331\n",
      "Train Epoch: 32 [5998/60000 (80%)]\tLoss: 0.202979\n",
      "Loss: 51.155281021030746\n",
      "Train Epoch: 33 [1998/60000 (27%)]\tLoss: 0.000002\n",
      "Train Epoch: 33 [3998/60000 (53%)]\tLoss: 0.484576\n",
      "Train Epoch: 33 [5998/60000 (80%)]\tLoss: 0.000383\n",
      "Loss: 110.53837008353511\n",
      "Train Epoch: 34 [1998/60000 (27%)]\tLoss: 0.000068\n",
      "Train Epoch: 34 [3998/60000 (53%)]\tLoss: 0.000126\n",
      "Train Epoch: 34 [5998/60000 (80%)]\tLoss: 0.001279\n",
      "Loss: 58.41102607546898\n",
      "Train Epoch: 35 [1998/60000 (27%)]\tLoss: 0.045825\n",
      "Train Epoch: 35 [3998/60000 (53%)]\tLoss: 0.001056\n",
      "Train Epoch: 35 [5998/60000 (80%)]\tLoss: 0.851613\n",
      "Loss: 49.27377434792708\n",
      "Train Epoch: 36 [1998/60000 (27%)]\tLoss: 0.619068\n",
      "Train Epoch: 36 [3998/60000 (53%)]\tLoss: 0.000417\n",
      "Train Epoch: 36 [5998/60000 (80%)]\tLoss: 0.058783\n",
      "Loss: 60.78795158512031\n",
      "Train Epoch: 37 [1998/60000 (27%)]\tLoss: 0.002097\n",
      "Train Epoch: 37 [3998/60000 (53%)]\tLoss: 0.023184\n",
      "Train Epoch: 37 [5998/60000 (80%)]\tLoss: 0.001552\n",
      "Loss: 55.85957672235868\n",
      "Train Epoch: 38 [1998/60000 (27%)]\tLoss: 0.000104\n",
      "Train Epoch: 38 [3998/60000 (53%)]\tLoss: 0.114733\n",
      "Train Epoch: 38 [5998/60000 (80%)]\tLoss: 0.542102\n",
      "Loss: 53.052725185922846\n",
      "Train Epoch: 39 [1998/60000 (27%)]\tLoss: 0.177254\n",
      "Train Epoch: 39 [3998/60000 (53%)]\tLoss: 0.000271\n",
      "Train Epoch: 39 [5998/60000 (80%)]\tLoss: 0.000025\n",
      "Loss: 53.83289371542168\n",
      "Train Epoch: 40 [1998/60000 (27%)]\tLoss: 0.000059\n",
      "Train Epoch: 40 [3998/60000 (53%)]\tLoss: 0.109913\n",
      "Train Epoch: 40 [5998/60000 (80%)]\tLoss: 0.000572\n",
      "Loss: 69.16219841102432\n",
      "Train Epoch: 41 [1998/60000 (27%)]\tLoss: 0.000128\n",
      "Train Epoch: 41 [3998/60000 (53%)]\tLoss: 0.005209\n",
      "Train Epoch: 41 [5998/60000 (80%)]\tLoss: 0.000098\n",
      "Loss: 58.038530090517376\n",
      "Train Epoch: 42 [1998/60000 (27%)]\tLoss: 0.307158\n",
      "Train Epoch: 42 [3998/60000 (53%)]\tLoss: 0.000455\n",
      "Train Epoch: 42 [5998/60000 (80%)]\tLoss: 0.000103\n",
      "Loss: 63.993708779709465\n",
      "Train Epoch: 43 [1998/60000 (27%)]\tLoss: 0.261003\n",
      "Train Epoch: 43 [3998/60000 (53%)]\tLoss: 0.000016\n",
      "Train Epoch: 43 [5998/60000 (80%)]\tLoss: 0.738129\n",
      "Loss: 75.41412743400357\n",
      "Train Epoch: 44 [1998/60000 (27%)]\tLoss: 0.226457\n",
      "Train Epoch: 44 [3998/60000 (53%)]\tLoss: 0.000000\n",
      "Train Epoch: 44 [5998/60000 (80%)]\tLoss: 0.391171\n",
      "Loss: 72.28258750874113\n",
      "Train Epoch: 45 [1998/60000 (27%)]\tLoss: 0.085913\n",
      "Train Epoch: 45 [3998/60000 (53%)]\tLoss: 0.000025\n",
      "Train Epoch: 45 [5998/60000 (80%)]\tLoss: 0.008203\n",
      "Loss: 43.35134517460726\n",
      "Train Epoch: 46 [1998/60000 (27%)]\tLoss: 0.058818\n",
      "Train Epoch: 46 [3998/60000 (53%)]\tLoss: 0.000013\n",
      "Train Epoch: 46 [5998/60000 (80%)]\tLoss: 0.019033\n",
      "Loss: 46.4365528368286\n",
      "Train Epoch: 47 [1998/60000 (27%)]\tLoss: 0.000176\n",
      "Train Epoch: 47 [3998/60000 (53%)]\tLoss: 0.221267\n",
      "Train Epoch: 47 [5998/60000 (80%)]\tLoss: 0.001162\n",
      "Loss: 62.8217816158857\n",
      "Train Epoch: 48 [1998/60000 (27%)]\tLoss: 0.001857\n",
      "Train Epoch: 48 [3998/60000 (53%)]\tLoss: 0.469661\n",
      "Train Epoch: 48 [5998/60000 (80%)]\tLoss: 0.051645\n",
      "Loss: 50.8852506411563\n",
      "Train Epoch: 49 [1998/60000 (27%)]\tLoss: 0.000000\n",
      "Train Epoch: 49 [3998/60000 (53%)]\tLoss: 0.000000\n",
      "Train Epoch: 49 [5998/60000 (80%)]\tLoss: 0.000000\n",
      "Loss: 112.6939513868835\n",
      "Train Epoch: 50 [1998/60000 (27%)]\tLoss: 0.000962\n",
      "Train Epoch: 50 [3998/60000 (53%)]\tLoss: 0.000017\n",
      "Train Epoch: 50 [5998/60000 (80%)]\tLoss: 0.000912\n",
      "Loss: 67.27090964058976\n",
      "Train Epoch: 51 [1998/60000 (27%)]\tLoss: 0.000838\n",
      "Train Epoch: 51 [3998/60000 (53%)]\tLoss: 0.000051\n",
      "Train Epoch: 51 [5998/60000 (80%)]\tLoss: 0.000732\n",
      "Loss: 61.398247268054654\n",
      "Train Epoch: 52 [1998/60000 (27%)]\tLoss: 0.265484\n",
      "Train Epoch: 52 [3998/60000 (53%)]\tLoss: 0.014811\n",
      "Train Epoch: 52 [5998/60000 (80%)]\tLoss: 0.000444\n",
      "Loss: 49.25960589775196\n",
      "Train Epoch: 53 [1998/60000 (27%)]\tLoss: 0.081956\n",
      "Train Epoch: 53 [3998/60000 (53%)]\tLoss: 0.051715\n",
      "Train Epoch: 53 [5998/60000 (80%)]\tLoss: 0.264543\n",
      "Loss: 72.97885995412086\n",
      "Train Epoch: 54 [1998/60000 (27%)]\tLoss: 0.003628\n",
      "Train Epoch: 54 [3998/60000 (53%)]\tLoss: 0.002760\n",
      "Train Epoch: 54 [5998/60000 (80%)]\tLoss: 0.001632\n",
      "Loss: 42.43886818726269\n",
      "Train Epoch: 55 [1998/60000 (27%)]\tLoss: 0.002598\n",
      "Train Epoch: 55 [3998/60000 (53%)]\tLoss: 0.000019\n",
      "Train Epoch: 55 [5998/60000 (80%)]\tLoss: 0.000000\n",
      "Loss: 77.21625090107997\n",
      "Train Epoch: 56 [1998/60000 (27%)]\tLoss: 0.000000\n",
      "Train Epoch: 56 [3998/60000 (53%)]\tLoss: 0.017293\n",
      "Train Epoch: 56 [5998/60000 (80%)]\tLoss: 0.003636\n",
      "Loss: 39.90491399252981\n",
      "Train Epoch: 57 [1998/60000 (27%)]\tLoss: 0.002142\n",
      "Train Epoch: 57 [3998/60000 (53%)]\tLoss: 0.073276\n",
      "Train Epoch: 57 [5998/60000 (80%)]\tLoss: 0.000002\n",
      "Loss: 61.0520406325767\n",
      "Train Epoch: 58 [1998/60000 (27%)]\tLoss: 0.000434\n",
      "Train Epoch: 58 [3998/60000 (53%)]\tLoss: 0.000291\n",
      "Train Epoch: 58 [5998/60000 (80%)]\tLoss: 0.010169\n",
      "Loss: 43.523173639164135\n",
      "Train Epoch: 59 [1998/60000 (27%)]\tLoss: 0.000001\n",
      "Train Epoch: 59 [3998/60000 (53%)]\tLoss: 0.000001\n",
      "Train Epoch: 59 [5998/60000 (80%)]\tLoss: 0.007113\n",
      "Loss: 107.82545996364469\n",
      "Train Epoch: 60 [1998/60000 (27%)]\tLoss: 0.000000\n",
      "Train Epoch: 60 [3998/60000 (53%)]\tLoss: 0.000000\n",
      "Train Epoch: 60 [5998/60000 (80%)]\tLoss: 0.153093\n",
      "Loss: 63.04724913491954\n",
      "Train Epoch: 61 [1998/60000 (27%)]\tLoss: 2.740343\n",
      "Train Epoch: 61 [3998/60000 (53%)]\tLoss: 0.000000\n",
      "Train Epoch: 61 [5998/60000 (80%)]\tLoss: 0.000258\n",
      "Loss: 58.217612526518295\n",
      "Train Epoch: 62 [1998/60000 (27%)]\tLoss: 0.000000\n",
      "Train Epoch: 62 [3998/60000 (53%)]\tLoss: 0.141500\n",
      "Train Epoch: 62 [5998/60000 (80%)]\tLoss: 0.037229\n",
      "Loss: 51.0648584495222\n",
      "Train Epoch: 63 [1998/60000 (27%)]\tLoss: 0.000024\n",
      "Train Epoch: 63 [3998/60000 (53%)]\tLoss: 0.000090\n",
      "Train Epoch: 63 [5998/60000 (80%)]\tLoss: 0.000000\n",
      "Loss: 128.0978685842259\n",
      "Train Epoch: 64 [1998/60000 (27%)]\tLoss: 0.000705\n",
      "Train Epoch: 64 [3998/60000 (53%)]\tLoss: 0.000008\n",
      "Train Epoch: 64 [5998/60000 (80%)]\tLoss: 0.000029\n",
      "Loss: 73.74688152680963\n",
      "Train Epoch: 65 [1998/60000 (27%)]\tLoss: 0.000008\n",
      "Train Epoch: 65 [3998/60000 (53%)]\tLoss: 0.000003\n",
      "Train Epoch: 65 [5998/60000 (80%)]\tLoss: 0.022786\n",
      "Loss: 49.066274528086744\n",
      "Train Epoch: 66 [1998/60000 (27%)]\tLoss: 0.000614\n",
      "Train Epoch: 66 [3998/60000 (53%)]\tLoss: 0.000000\n",
      "Train Epoch: 66 [5998/60000 (80%)]\tLoss: 0.000000\n",
      "Loss: 71.55505052943602\n",
      "Train Epoch: 67 [1998/60000 (27%)]\tLoss: 0.000000\n",
      "Train Epoch: 67 [3998/60000 (53%)]\tLoss: 0.000001\n",
      "Train Epoch: 67 [5998/60000 (80%)]\tLoss: 0.004774\n",
      "Loss: 48.01503030598856\n",
      "Train Epoch: 68 [1998/60000 (27%)]\tLoss: 0.000164\n",
      "Train Epoch: 68 [3998/60000 (53%)]\tLoss: 0.000010\n",
      "Train Epoch: 68 [5998/60000 (80%)]\tLoss: 0.000000\n",
      "Loss: 44.909327786853055\n",
      "Train Epoch: 69 [1998/60000 (27%)]\tLoss: 0.012933\n",
      "Train Epoch: 69 [3998/60000 (53%)]\tLoss: 0.290855\n",
      "Train Epoch: 69 [5998/60000 (80%)]\tLoss: 0.112482\n",
      "Loss: 38.74296202295656\n",
      "Train Epoch: 70 [1998/60000 (27%)]\tLoss: 0.032834\n",
      "Train Epoch: 70 [3998/60000 (53%)]\tLoss: 0.000027\n",
      "Train Epoch: 70 [5998/60000 (80%)]\tLoss: 0.000005\n",
      "Loss: 42.3662536367641\n",
      "Train Epoch: 71 [1998/60000 (27%)]\tLoss: 0.000000\n",
      "Train Epoch: 71 [3998/60000 (53%)]\tLoss: 0.000179\n",
      "Train Epoch: 71 [5998/60000 (80%)]\tLoss: 0.000988\n",
      "Loss: 56.48961653753793\n",
      "Train Epoch: 72 [1998/60000 (27%)]\tLoss: 0.000605\n",
      "Train Epoch: 72 [3998/60000 (53%)]\tLoss: 0.000000\n",
      "Train Epoch: 72 [5998/60000 (80%)]\tLoss: 0.012283\n",
      "Loss: 60.03620380804894\n",
      "Train Epoch: 73 [1998/60000 (27%)]\tLoss: 0.003745\n",
      "Train Epoch: 73 [3998/60000 (53%)]\tLoss: 0.000000\n",
      "Train Epoch: 73 [5998/60000 (80%)]\tLoss: 0.000000\n",
      "Loss: 80.82273772233789\n",
      "Train Epoch: 74 [1998/60000 (27%)]\tLoss: 0.000278\n",
      "Train Epoch: 74 [3998/60000 (53%)]\tLoss: 0.037650\n",
      "Train Epoch: 74 [5998/60000 (80%)]\tLoss: 0.033665\n",
      "Loss: 51.141585892186455\n",
      "Train Epoch: 75 [1998/60000 (27%)]\tLoss: 0.000150\n",
      "Train Epoch: 75 [3998/60000 (53%)]\tLoss: 0.101422\n",
      "Train Epoch: 75 [5998/60000 (80%)]\tLoss: 0.000820\n",
      "Loss: 50.75353891029294\n",
      "Train Epoch: 76 [1998/60000 (27%)]\tLoss: 0.003024\n",
      "Train Epoch: 76 [3998/60000 (53%)]\tLoss: 0.000000\n",
      "Train Epoch: 76 [5998/60000 (80%)]\tLoss: 0.020889\n",
      "Loss: 29.66115945027545\n",
      "Train Epoch: 77 [1998/60000 (27%)]\tLoss: 0.454453\n",
      "Train Epoch: 77 [3998/60000 (53%)]\tLoss: 0.001508\n",
      "Train Epoch: 77 [5998/60000 (80%)]\tLoss: 0.000190\n",
      "Loss: 50.78188509609714\n",
      "Train Epoch: 78 [1998/60000 (27%)]\tLoss: 0.000004\n",
      "Train Epoch: 78 [3998/60000 (53%)]\tLoss: 0.133625\n",
      "Train Epoch: 78 [5998/60000 (80%)]\tLoss: 0.000000\n",
      "Loss: 48.23765003405651\n",
      "Train Epoch: 79 [1998/60000 (27%)]\tLoss: 0.000001\n",
      "Train Epoch: 79 [3998/60000 (53%)]\tLoss: 0.000016\n",
      "Train Epoch: 79 [5998/60000 (80%)]\tLoss: 0.000000\n",
      "Loss: 56.33030707886109\n",
      "Train Epoch: 80 [1998/60000 (27%)]\tLoss: 0.000000\n",
      "Train Epoch: 80 [3998/60000 (53%)]\tLoss: 0.000020\n",
      "Train Epoch: 80 [5998/60000 (80%)]\tLoss: 0.663970\n",
      "Loss: 69.78988260453056\n",
      "Train Epoch: 81 [1998/60000 (27%)]\tLoss: 0.000190\n",
      "Train Epoch: 81 [3998/60000 (53%)]\tLoss: 0.000003\n",
      "Train Epoch: 81 [5998/60000 (80%)]\tLoss: 0.417210\n",
      "Loss: 78.5010966276854\n",
      "Train Epoch: 82 [1998/60000 (27%)]\tLoss: 0.000144\n",
      "Train Epoch: 82 [3998/60000 (53%)]\tLoss: 0.000700\n",
      "Train Epoch: 82 [5998/60000 (80%)]\tLoss: 2.803720\n",
      "Loss: 82.04295235178378\n",
      "Train Epoch: 83 [1998/60000 (27%)]\tLoss: 0.214207\n",
      "Train Epoch: 83 [3998/60000 (53%)]\tLoss: 0.000000\n",
      "Train Epoch: 83 [5998/60000 (80%)]\tLoss: 0.384407\n",
      "Loss: 49.10611801759149\n",
      "Train Epoch: 84 [1998/60000 (27%)]\tLoss: 0.000000\n",
      "Train Epoch: 84 [3998/60000 (53%)]\tLoss: 0.000116\n",
      "Train Epoch: 84 [5998/60000 (80%)]\tLoss: 0.000004\n",
      "Loss: 108.9897565883131\n",
      "Train Epoch: 85 [1998/60000 (27%)]\tLoss: 0.000011\n",
      "Train Epoch: 85 [3998/60000 (53%)]\tLoss: 0.062928\n",
      "Train Epoch: 85 [5998/60000 (80%)]\tLoss: 0.003286\n",
      "Loss: 105.8161345546534\n",
      "Train Epoch: 86 [1998/60000 (27%)]\tLoss: 0.000002\n",
      "Train Epoch: 86 [3998/60000 (53%)]\tLoss: 0.000000\n",
      "Train Epoch: 86 [5998/60000 (80%)]\tLoss: 0.000290\n",
      "Loss: 55.6849901761199\n",
      "Train Epoch: 87 [1998/60000 (27%)]\tLoss: 0.000000\n",
      "Train Epoch: 87 [3998/60000 (53%)]\tLoss: 0.523537\n",
      "Train Epoch: 87 [5998/60000 (80%)]\tLoss: 0.003307\n",
      "Loss: 74.99555445631573\n",
      "Train Epoch: 88 [1998/60000 (27%)]\tLoss: 0.000081\n",
      "Train Epoch: 88 [3998/60000 (53%)]\tLoss: 0.210118\n",
      "Train Epoch: 88 [5998/60000 (80%)]\tLoss: 0.004857\n",
      "Loss: 111.03549189720098\n",
      "Train Epoch: 89 [1998/60000 (27%)]\tLoss: 0.000000\n",
      "Train Epoch: 89 [3998/60000 (53%)]\tLoss: 0.000216\n",
      "Train Epoch: 89 [5998/60000 (80%)]\tLoss: 0.000078\n",
      "Loss: 43.73749478355225\n",
      "Train Epoch: 90 [1998/60000 (27%)]\tLoss: 0.000000\n",
      "Train Epoch: 90 [3998/60000 (53%)]\tLoss: 0.003095\n",
      "Train Epoch: 90 [5998/60000 (80%)]\tLoss: 0.026040\n",
      "Loss: 50.44270142360255\n",
      "Train Epoch: 91 [1998/60000 (27%)]\tLoss: 0.187200\n",
      "Train Epoch: 91 [3998/60000 (53%)]\tLoss: 0.000043\n",
      "Train Epoch: 91 [5998/60000 (80%)]\tLoss: 0.118582\n",
      "Loss: 76.68029853914678\n",
      "Train Epoch: 92 [1998/60000 (27%)]\tLoss: 0.000000\n",
      "Train Epoch: 92 [3998/60000 (53%)]\tLoss: 0.001804\n",
      "Train Epoch: 92 [5998/60000 (80%)]\tLoss: 0.038612\n",
      "Loss: 47.482947772790816\n",
      "Train Epoch: 93 [1998/60000 (27%)]\tLoss: 0.013942\n",
      "Train Epoch: 93 [3998/60000 (53%)]\tLoss: 0.188293\n",
      "Train Epoch: 93 [5998/60000 (80%)]\tLoss: 0.000069\n",
      "Loss: 37.57646090209643\n",
      "Train Epoch: 94 [1998/60000 (27%)]\tLoss: 0.000496\n",
      "Train Epoch: 94 [3998/60000 (53%)]\tLoss: 0.017583\n",
      "Train Epoch: 94 [5998/60000 (80%)]\tLoss: 0.000001\n",
      "Loss: 62.36442464469451\n",
      "Train Epoch: 95 [1998/60000 (27%)]\tLoss: 0.000000\n",
      "Train Epoch: 95 [3998/60000 (53%)]\tLoss: 0.002127\n",
      "Train Epoch: 95 [5998/60000 (80%)]\tLoss: 0.416425\n",
      "Loss: 50.97161554813335\n",
      "Train Epoch: 96 [1998/60000 (27%)]\tLoss: 0.008081\n",
      "Train Epoch: 96 [3998/60000 (53%)]\tLoss: 0.009612\n",
      "Train Epoch: 96 [5998/60000 (80%)]\tLoss: 0.051732\n",
      "Loss: 80.81473636366749\n",
      "Train Epoch: 97 [1998/60000 (27%)]\tLoss: 0.000000\n",
      "Train Epoch: 97 [3998/60000 (53%)]\tLoss: 0.001167\n",
      "Train Epoch: 97 [5998/60000 (80%)]\tLoss: 0.023370\n",
      "Loss: 48.31211675612988\n",
      "Train Epoch: 98 [1998/60000 (27%)]\tLoss: 0.000000\n",
      "Train Epoch: 98 [3998/60000 (53%)]\tLoss: 0.000134\n",
      "Train Epoch: 98 [5998/60000 (80%)]\tLoss: 0.042251\n",
      "Loss: 58.1435579859301\n",
      "Train Epoch: 99 [1998/60000 (27%)]\tLoss: 0.000005\n",
      "Train Epoch: 99 [3998/60000 (53%)]\tLoss: 0.000005\n",
      "Train Epoch: 99 [5998/60000 (80%)]\tLoss: 0.000000\n",
      "Loss: 75.33287737156344\n",
      "Finished Training\n"
     ]
    }
   ],
   "source": [
    "train(net, trainloader, optimizer, epoch=10)"
   ]
  },
  {
   "source": [
    "## Assessing trained models with TensorBoard"
   ],
   "cell_type": "markdown",
   "metadata": {}
  },
  {
   "cell_type": "code",
   "execution_count": 17,
   "metadata": {},
   "outputs": [],
   "source": [
    "# 1. gets the probability predictions in a test_size x num_classes Tensor\n",
    "# 2. gets the preds in a test_size Tensor\n",
    "# takes ~10 seconds to run\n",
    "class_probs = []\n",
    "class_label = []\n",
    "with torch.no_grad():\n",
    "    for data in testloader:\n",
    "        images, labels = data\n",
    "        output = net(images)\n",
    "        class_probs_batch = [F.softmax(el, dim=0) for el in output]\n",
    "\n",
    "        class_probs.append(class_probs_batch)\n",
    "        class_label.append(labels)\n",
    "\n",
    "test_probs = torch.cat([torch.stack(batch) for batch in class_probs])\n",
    "test_label = torch.cat(class_label)\n",
    "\n",
    "# helper function\n",
    "def add_pr_curve_tensorboard(class_index, test_probs, test_label, global_step=0):\n",
    "    '''\n",
    "    Takes in a \"class_index\" from 0 to 9 and plots the corresponding\n",
    "    precision-recall curve\n",
    "    '''\n",
    "    tensorboard_truth = test_label == class_index\n",
    "    tensorboard_probs = test_probs[:, class_index]\n",
    "\n",
    "    writer.add_pr_curve(classes[class_index],\n",
    "                        tensorboard_truth,\n",
    "                        tensorboard_probs,\n",
    "                        global_step=global_step)\n",
    "    writer.close()\n",
    "\n",
    "# plot all the pr curves\n",
    "for i in range(len(classes)):\n",
    "    add_pr_curve_tensorboard(i, test_probs, test_label, classes)"
   ]
  },
  {
   "source": [
    "## Save model"
   ],
   "cell_type": "markdown",
   "metadata": {}
  },
  {
   "cell_type": "code",
   "execution_count": 21,
   "metadata": {},
   "outputs": [],
   "source": [
    "PATH = './runs/mnist.pth'\n",
    "torch.save(net.state_dict(), PATH)"
   ]
  },
  {
   "source": [
    "## Test the network on the test data"
   ],
   "cell_type": "markdown",
   "metadata": {}
  },
  {
   "cell_type": "code",
   "execution_count": 24,
   "metadata": {},
   "outputs": [
    {
     "output_type": "stream",
     "name": "stdout",
     "text": [
      "GroundTruth:  Sneaker Pullover Trouser T-shirt/top\n"
     ]
    },
    {
     "output_type": "display_data",
     "data": {
      "text/plain": "<Figure size 432x288 with 1 Axes>",
      "image/svg+xml": "<?xml version=\"1.0\" encoding=\"utf-8\" standalone=\"no\"?>\n<!DOCTYPE svg PUBLIC \"-//W3C//DTD SVG 1.1//EN\"\n  \"http://www.w3.org/Graphics/SVG/1.1/DTD/svg11.dtd\">\n<!-- Created with matplotlib (https://matplotlib.org/) -->\n<svg height=\"119.960815pt\" version=\"1.1\" viewBox=\"0 0 368.925 119.960815\" width=\"368.925pt\" xmlns=\"http://www.w3.org/2000/svg\" xmlns:xlink=\"http://www.w3.org/1999/xlink\">\n <metadata>\n  <rdf:RDF xmlns:cc=\"http://creativecommons.org/ns#\" xmlns:dc=\"http://purl.org/dc/elements/1.1/\" xmlns:rdf=\"http://www.w3.org/1999/02/22-rdf-syntax-ns#\">\n   <cc:Work>\n    <dc:type rdf:resource=\"http://purl.org/dc/dcmitype/StillImage\"/>\n    <dc:date>2021-05-15T16:34:54.062984</dc:date>\n    <dc:format>image/svg+xml</dc:format>\n    <dc:creator>\n     <cc:Agent>\n      <dc:title>Matplotlib v3.3.1, https://matplotlib.org/</dc:title>\n     </cc:Agent>\n    </dc:creator>\n   </cc:Work>\n  </rdf:RDF>\n </metadata>\n <defs>\n  <style type=\"text/css\">*{stroke-linecap:butt;stroke-linejoin:round;}</style>\n </defs>\n <g id=\"figure_1\">\n  <g id=\"patch_1\">\n   <path d=\"M -0 119.960815 \nL 368.925 119.960815 \nL 368.925 0 \nL -0 0 \nz\n\" style=\"fill:none;\"/>\n  </g>\n  <g id=\"axes_1\">\n   <g id=\"patch_2\">\n    <path d=\"M 26.925 96.08269 \nL 361.725 96.08269 \nL 361.725 10.307483 \nL 26.925 10.307483 \nz\n\" style=\"fill:#ffffff;\"/>\n   </g>\n   <g clip-path=\"url(#paec203cf5b)\">\n    <image height=\"86\" id=\"image3ca51dda6e\" transform=\"scale(1 -1)translate(0 -86)\" width=\"335\" x=\"26.925\" xlink:href=\"data:image/png;base64,\niVBORw0KGgoAAAANSUhEUgAAAU8AAABWCAYAAABPYxQVAAA1eklEQVR4nO1daW8c15U9Vb1Vr9Vdve9NNneJlGXJtOUYthE78CxAMoNgkE/5Lf4182GAyWCATCaA7SBjx5Esy1qsheLe3ex936v3qvkgvGdSK0n1ZrsPYBgQm12PVfXuu8u55zKffvqpjBlmmGGGGc4EdtILmGGGGWb4MWJmPGeYYYYZzoGZ8ZxhhhlmOAeUk17AqKHX67G4uIirV68il8thb28P29vbkOVZqvfnBJVKhfn5eYTDYbRaLezs7CCTyUCSpEkvbYYfKX7ynifHcZifn4fdbofP58Pc3BxUKhUYhpn00mYYIxQKBZxOJzweD5xOJ8xm8+wdmOG18JP3PDUaDYLBIJRKJSwWCxiGgcFgQL1eR6/Xm/TyZhgTFAoFHA4HzGYzFAoFTCbTVBlPhmHAMAwUCgUUCgVYlkW/3wcAyLKMwWAAWZZnEdMU4SdvPCVJQrvdhl6vh1KphMlkwptvvok7d+6gVCpNenkzjAksy0IQBKhUqkkv5RkoFAqoVCpYLBYsLy8jEAjA7/fj+++/R6vVwmAwwN7eHkqlEtrt9syATglGZjx9Ph+MRiPUajV2dnbQ7XYnkl8SRREPHjzAu+++C61WC6VSidXVVeRyOUiShEqlMvY1HQfDMOA4DpcuXYLdboder3/u52q1GnK5HKrVKtLpNBqNxphX+uNGv99HLBaDXq+HXq9HMBjEnTt3Jr0saDQa2O12LC4uwu12Q61WQ5Ik3Lt3Dw6HAxzHgWVZhEIhZDIZZDIZ7O/vo9lsjt2IWq1WhEIhzM3NYWdnB9FoFPV6faxreBp6vR5msxlutxvAkzSdzWaDRqNBp9NBu91Gt9tFs9lEr9dDt9tFOp2GJEkYDAZoNpuQJOlc93KoxpNlWajVapjNZgSDQVgsFmg0GrRaLVSrVTSbzbFv+k6ng3g8jk6nA41GQz0Qj8cDURRRrVYndpKrVCpotVo4HA4sLCzA5XK90HhWq1XwPI9yuQyO41AqldBsNlGr1cZ6KLEsC51OB6VSCYVCAYPBgHa7fSIF0u120el0piotIkkSyuUy+v0+DAYDbDYb9Ho9JEmi4fE4QUJ0l8sFn8+HUCgEjuNQLpdRLBYRi8Wg0WgAAFqtFl6vFzqdjn6GeKTjBMdxcDqdWFlZgSRJUCgUyOfzKBaL6HQ6Y99HZO/4/X54PB7IsgyVSgWTyQSNRkONZbvdRr/fR7/fR7fbhVarhSzL6Pf7qFQqaDabEEURrVbrTHtpqMZTrVbD4XDgvffeg8PhoJ6ez+fD4eEhotEoHj58ONabTE6aRqMBrVZLX8ilpSWwLItYLDaxTc7zPHw+HzY3N2G1WqFWq1/6WZ7nIcsyut0uyuUyHj16hO+++w7tdnss62VZFhqNBnNzc+B5HiaTCevr64hGoyiXy/RzmUwGyWQSpVJpakJMWZbRbrchSRJUKhXMZjMCgQCOjo5OrH1cYBgGRqMR7777LtxuNxQKBe7du4dHjx4hlUoBAHK5HEwmE+x2Oz744ANYLBaoVCo0Gg1kMpmxG08ChUKB9fV1bGxsIJlM4osvvkA8Hh/7IeTxeLCxsYGNjQ3IsoxOp4NqtYpYLAaGYehh0263EQwGwXEcGIbBxsYGAFDjGY/HEYlEcHh4iFardep3dmjGU6lUYm1tDQsLC5ibmwPLsjQhbzKZcOHCBfj9fgSDQfz1r389s5U/L2RZRq/Xwx/+8Ae89dZbeOedd8CyLHiex9zcHN5//3189dVXEzGgfr8fb731FhwOB2q1GgqFAjqdznM/q9PpwPM8OI6DWq2G1WrFm2++CZPJhL29PUQikZG+vBqNBlarFZ988gndxAzDQKVSIRwOn3iWg8EA7XYbOzs7uH//PkqlErrd7sjWdhoMBgPkcjnqsTEMA6VSOZGiEcdx4HkeV65cgcvlQrPZxNbWFm7fvn3i+ddqNdTrdeRyOYiiiM3NTTgcDqyurmJ7exvFYhGtVmts685kMrBarfB6vfB4PAAAl8uF3/72t7h16xb29vao4R8XiAf5+PFj3L17F/l8nu4DlmXpZ5RKJZRKJTiOw9zcHE2XeTwehEIheL1ebGxs4NatW0gmkxBF8ZXXHorxJFbe6XTC5XJBqXzyte12G+12GzzPQ61Ww2QyIRAIIBwOI5FIjK1gI8sy6vU6stkskskk/H4/WJaFwWBAMBiEIAioVCovNFyjgkKhgFqtpobmVcbTYrHA7/dTD5qsv16vI5/Pjyx/SxgLoVAINpsN/X4fxWLxhFEk4RLP89BqtTCZTJibmwMAet+LxeLEPFFJkugBpdPpYDabYbFYkE6nx74WrVYLq9WKQCAAjUaDUqmEXC5HPePjayb/T6fTyGaz0Gq1MJvNCIVCGAwGYzWeg8EApVIJkUgEbrebph70ej00Gg3d9+NCqVRCIpEAx3HI5/OoVqsvTQuyLEtzxeTwzOVysFgssFgsMJvNWF9fR7fbRSaTeaU9GNpfazKZIAgCzGYz9faq1Sqq1Sq0Wi1UKhX1Xubn59FoNMZa7R4MBiiXy4jFYvB6vTQEJdw/SZJQKpXGFgqRnCHwpKi1t7eHRCLxQg+NeCvdbhdms5kmye12O1wuFzKZDBqNBqW0DAsMw4DneYTDYSwuLkKlUiGTySCRSODo6Iie0FqtFj6fD06nEzzPw2g0wmKxQKvVwmazgWVZtFottNvtiYSbsixDFEVkMhno9XpYLBZaoFMoFGNbk0KhgNFohMPhgMPhQKfTQbPZfGmKQ5ZlVCoVpNNp6PV62O12hEIhlEqlsRv/SqWCaDSKzc1NKJVK6t1NAuVyGfF4nB4ir4puJEmihpEgHo9TJ2R5eRnLy8tIp9NotVrI5XIv/b6hGE+WZeH3+2mxQ5Ik7O7u4ujoCLlcDp1OB6FQCEajEQzDQK/XT4QyUqlUcHR0hKtXr0KtVtMC1z/8wz/gu+++w4MHD07c2FGCGD6dTkcpKC97+MSLz2azYFkWNpsN77//PpaWlhAOhyEIAv70pz8hn88P1YNmWRYffvghPB4POI5DNBrF559//sxBQ4pIW1tbGAwGUKvV2NzcxOLiIsLhMAKBACwWCx4/fjwRb49ga2sLALC4uIhgMIhUKoVyuYxCoTCW6wuCgNXVVZp3i8fjiEajyOfzr/zd77//HpVKBaFQCC6XCzzPj9XwA0Cj0UAikUAikYDL5YJOpxvbtZ+HbDaLbDb7Wt/RaDQQiURQr9cxNzeHq1ev0v30MryW8bTZbFCr1VAqlQgGg9R4siyLubk5uN1u9Ho9GI1GcBz3OpcaCojncevWLaytrVHCNMnbKZVKfPbZZ+emLpwFJJl9nkNEkiQ0Gg08fPgQCoUCdrsdZrMZb731Fv7+978jn88PZf0KhQI6nQ4mkwlqtRq9Xo+eypIk0bzRxsYG/H4/bDYbstksdnd3EYlEcP36dSQSCXg8HgQCAVy4cAEajQYmkwk7Ozuvvb7zoNVq0VBXpVLB6/Wi3W6PxXiSYoXf76eFy/v37yMajZ76OyRJQqfTgclkgtvtRjgcxu7u7ohW/PNBu91GqVTC0dERPB7PC1kvx3Fq48kwDDQaDcxmMwwGAxiGgd1uh0ajgUKhgNVqpS8E8S6fXgDpkCDUgXFjMBhAFEVEIhGYzWYATzwBEpq6XC6YTCbUarWRn+YkbD9vwaLb7SKbzSIej1OD5PF4YDabUa/Xh5YLO26Ej1esgSfGhxQISS601Wqh0+mg2+3SkF4URXQ6Hayvr8PpdKLf7+Po6AidTmdkRUOFQgGO46DRaMAwDGUpkNRBpVKhjAGr1QqFQjGWQ5Pneeh0OhruvipP9zR6vR5KpRJ4nqd5U0LFGxdljdQ4SNpJlmUUi8VTFVmmGeTZH0+pvQynMp4kMWy1WnHp0iUsLCzQNsfTGgCyMMK3Gxe95mkMBgNEIhFotVr0+33qfXIcB4vFgkAggL29vTNRFiaBfr+PcrmM/f19GI1GuN1u2Gw2Wr1NJpOvfQ2SS3penlKpVMJoNOLjjz+GRqNBvV7HgwcP8PDhQ4iiSA/HYrGIYrGI/f19OJ1O2O12aLVa7OzsULLysMGyLDiOg8vlgsPhoIaRFBhEUcTBwQEuXbpESdYcx039MweeeEixWAyBQAAOhwMajQZbW1soFApjYzSwLAu73X7CwOzs7PxoGzdI8Uin08Fms0GpVJ7qPTiV8RQEAZcuXcLly5dpxwO56GlBEuPZbBY3b94ca5XwedjZ2UG9XodGo8Hy8jKtGn788ccwGAyIxWJIJpNTv5kKhQLi8TgEQcDS0hLW19ehVquHYjxfBp/PhytXrkCv19MK7M2bN19YsJIkCX/+85/x4YcfYmFhAVevXsUXX3wxdIqYUqnE5uYmwuEwvF7viXdUlmVIkoRkMom7d+9Cq9VSb91sNk+sC+68ICmn43tyhrPD5XJhfn4eS0tL0Ov12NrawuHh4St/71TG02AwYGlp6US4ATx5GRuNBorFIqrVKuX+tVqtE5QAvV5Pw5NKpfIMJWNUIDk7r9dLCeaEg0hC9eO5WJZlodVqaT7UZDJhf38f/X5/6OvN5XIolUqvfYhIkkRpWIuLi5TPNg6QvOfxLo4XgdDFcrkceJ6HXq8f+oZXKpVYX1/H3NwcHA4HVCrVM22MKpUKgiDgjTfegCAI0Gq16Ha7CAaDKJfLI+f71uv1oUVdRExkmgROfkwgPOWVlRV4PB7odDo8evQI+/v7pyrgnWqXkc4h4IfTm1SHC4UCjo6OkM/naX6p0WigWq1iMBiAZVmYzWaUy2WIojiWcJ1lWVqkMpvNWFpagt1uBwCaiyM5XJK/JVAoFPB4PJReVSqVUK1Wh55TKpfLqNfrQ6mMt9tt1Go1AGeLBk6L53mS3W6XtoaSl9BoNNJe4eeB0NfK5TKsVuvQjSfLsgiHw3A4HNDpdBgMBshkMieMOsdx9EAlHSeyLMPn82Fra2vkoTvpsSZQqVRQKpUTqQH8nKFWq6HRaGA0GhEMBqHValGv17G7u4t0Oj08krwkSWi1WrQnVBRF3LlzB7FYjBqXl6FYLJ7uLxoCCH/zV7/6FTweD4xG43M9MbJBXmRsLBYL7ZG9e/cuzZUNC6TX9scQJvZ6PXoQEhSLRWxtbeGNN96A0+mE0WiESqXCl19++VLRisFggH6/D5Zl6X/DugcMw8BisVBxjXa7jT/+8Y8nxCsMBgMcDgcWFxdx5coVKJVKqNVq2jv+tHEbNgaDwYm/12q10iaHs2LaU0rTDMIAWVlZgdFoxPb2Nr777rsz0Z5OZTxJhXp5eRnVahXJZBLfffcdut3uxPprXwSdTgeXywWv10ur/fV6narHE7I58IMXTcJIlUqFbrdLBUQI5UoQBCSTSXz55Zeo1+tDNXjEM3c4HGi1WhPps34ZyGHZ7/dP9N53Oh2Uy2UcHBwgGAzCYDBgdXUVarUah4eHiMViL+x4UiqVsNlssNls1IMdF0RRRDKZRLlchlKpRCgUgtVqhV6vhyAIEEVxZJ1apCrdbDbpv62urkKpVKJWq505Cul2u6jX6yiVShP3XC9duoSDg4Ox8aQBwG63Y2VlBcvLyzg6OsKdO3deSDkjgkVutxuBQABOpxN6vR7dbhd/+ctfkE6nz+zkncp4drtdFItFSJJEjUq320Wv15u6048Q39VqNRQKBTWQ+XyevrTEqBLqlF6vh8FggFarhVarhcvlogZUo9FAEARIkgS/34+9vT10u92h/N3tdhvVahUmkwlOpxONRmPqjCfwQ6ip0Wieof5Eo1Gq0m61WuHz+Sj/M5FI0LZXsrmVSiU0Gg1UKhVUKtXQQ3dRFMHzPP1uoupFrk+6TPr9Pvb396HT6aDVaqHT6eB2u9FsNkcqU1ir1SCKIrrdLtRqNQRBoCLNuVzuTO/VYDCg9KtJRjCkrvEyYZtRgIi8WCwW2nopCAJNzcmyDIVCAYvFAo7j6D6z2+2o1+soFouoVCpIJBKo1+tnPoBObTwLhQLdQIQfV61Wp0p2DPhBdfs4Z4+0BmazWVSr1WduEtnsJpMJS0tLUKvVMBgMUKvVJ0SUl5eXqQrTMIxntVpFKpWiwgTNZhOHh4dTF8oTapnJZILRaKQUFUmSsLe3h16vh1arBaPRCLPZDL1eD6/XC7PZjN3dXZRKJYiiCJZlKf93FKrokiShUCjAbDbTXmuz2YxOp4NGo0GvR96Rvb09WCwWGI1G6HQ6zM3NoV6vIxaLjewZ1Go11Go1tFotqvdAKGaFQuFUkRy5/8R4Tor2N2kQScZarQan0wmO42i9hdDgNBoNVlZWoFKpoFarwXEcBoMB7t27h52dHWoPRqbn2Ww2sb+/D0EQsLi4CI/Hg9///vf4z//8T6TT6YmHDMfRbDZxdHSE7777Dmtra3A4HDAYDPjkk0+QSqUQiURw586dEwZQlmW0Wi1wHIe1tTV8+eWXEEURRqMR//qv/0qr9mtra7h+/frQ2AIkxLhw4QIEQYDf74fb7R4Z//E8kCQJW1tbcDgcsFqtCIfDuHHjBoAf2BaPHz9GJBLBw4cP8U//9E/geR4WiwWbm5tYX1+njAzyLEgVvNlsDrWVtNfr4YsvvkCj0cDi4iICgQDefvttbG9v4+Dg4BmPUpIkeliRvny/349EIjEymhoh6BPWAfCEOL+yskJbW18Gkh5RKpUTV6qaNNrtNh48eIB4PI7f/e53MBgM4HkeHo8Hq6ur9HNEejKTySAej1MGzese4KcyniRE297ehlKppHQPIu2UTCanJvdJ1rq1tUVbCm02G5WfMhgM4DiO5oqOjo7o2om8Vb/fh9FoxOLiIu2qAUBD1mGB5KyI4SZqP2fNG+l0Olit1qGt62n0+30q46bT6eDz+SjpHPhBgi6Xy+Hzzz9HIBCgJG4yL0ir1dLqtiiKODw8RLVaHboBGAwGODo6glKphMvlgtPphCzL0Ol0ePjw4TPhmSiKKJfLqFQqMBqN0Ov1cDqdI+XJkgLR4uIijXpcLhcWFxeRTCZfWIANBoOYn58Hz/NgWZamfX7O6PV6qNfriEQiWFhYoLoaxyMNAMjn86jX63R22TAOxlMbz8FggHw+j0QiQTe51+tFp9OhquaE10nECggHbZyG9fhaSfjV6/UgCAI0Gg0cDgcYhqGcQ9JSOBgMaEhK0hIej4dWh/v9PkRRHGqedzAYoNPpoFAo0P5xIp5yFhC5OoZh0Ov1hh4JkDxhp9OBXq+Hy+Wih8/xv6XVamF/f5+qyLdaLeh0OprfJN9Rr9cRjUYhiuJI3o1SqQSO45DJZOD1euF0OqFQKFCtVpFIJE7QkZRKJdX6JAeYy+WCVqsdGR+ZGGxyaCqVSqrs02g00Gw2TzxDQgXzeDyUYkVUwl5XFOM8kGUZtVqNRhGTBNnfhKPb7XYRiURQKpVOPDtiNIf5PM/EppYkCfv7+yiVSnC73QiFQlAqlSiVSjg4OKAJWjKdkuQZyCkw7uISEagQBAEbGxs0NHO73XC73Zifn6dq2I1GAyzLwul0YnNzE2q1GjzPU95ivV7H/fv3UavVhmqcut0u7ty5QxWW7Hb7mYsoJpMJLpcLwBPlqFF4I+VyGZlMBoIgIBgMolqt4uDg4LmfjcfjiMfjAJ5UREkxDvhB4HeUHhNJ3bRaLfzud7+jHqXdbseNGzdQLBap0SZ83kePHkEQBJhMJqytrdH20eOV8WFBFEXk83nE43EEAgHaIbS0tIRKpUILh8d1J4kMndfrBfDkOe/s7ExkDlOv18O9e/ewsbEx0ojnrDguhVkoFEae+jpzKwo58f77v/8bq6urJ3hrxBt9//330e12aWI7Ho/TTUNmtBCO46jzpf1+H4VCAV9//TWMRiMEQcDa2hqlMhkMBoTD4RPFJfJCEK5guVxGKpXC1tbWSPJMpKXRaDRidXUV6XQa0Wj0VEo/V65cQTgchsFgAACkUqmR0EWi0Sj6/T7W1tbO9HulUgnlcpkeCJIkjSWf2+v1kMvl8Oc//xkrKysIh8PQ6XR47733Tni7DMOg0+kgEomg0WjQHufjwhfDBolgrl+/TkXESZPBe++9hwsXLuDOnTvY3t6GxWLBwsICLl++TMfayLKM//qv/5rY9FeVSoXNzU3anSfLMu7cuTORYYrEayeKXaRrbxyO2rn6+IgBJf2fJGQnAhuCINCwHQDNz7TbbYiiiEajQSfbPe9kT6VSQ+P+kTCehOakQFEoFKgCtiAI0Ol0UKvVlFlAhkKVy2Va1RvV2FeSGiA81Lm5OdrB1el06AF13OiQYVwLCwuw2WwAnhDXC4XCSCYakkJHNpulbAS9Xv9Kz2xSuXASzqVSKSgUCnS7XczNzcFoNEKr1VK6VaPRoDOBstksTCYTTCbTSEeHEA+pWCwiHo+DZVl4PB7aHsyyLFZWVmgKKRAInEjnEEnCcU8+ICB52uOHy6SU0iwWC0KhEEwmE3q9HrUz48C5jCd5+CQ0e/pnhH9FHjbJMx6HKIpoNpvP5TUebzccJrrdLrrdLs19Ed7i3NwcrFYrDAYDZFnG3t4eCoUCDYFHeYqRAhcxllqtFoFAAI1GA71eD5VKhfISyctJ+vJXVlYQCoXopMBEIvEMCXtYIDnfZDKJ5eVl8DwPs9lM+XTTCKLATu6jUqmkos4E2WwWqVQKBwcHNEfL8zyy2exIjYEsy2g2m4hGo1AqlbBarSe4qQsLCzAajVQG8vjvnZdaM0oQXvW4D0ubzYaVlRVwHEf5xOQeEroicaCGfc+GqiBBRGXv3r2LCxcu0FP0eSCEdOI1HcfDhw+HuazngngcAJ6rbD6ul1OSJBSLRUQiESgUChqCv/XWW7h8+TLlWD5dCCJVb1KQazabuHnzJorF4si4t+TQZBgGJpMJPp8P6XR66jby0yC0qEQi8cwhfpyuBvzQOTUuHBwcUOL8G2+8QQtsAOB0Op/5fKPRwOHh4VTRAxmGwZUrV7C9vf1ch2qUsFgsdFaW0WjE8vIyZUuQ+9pqtRCLxYau5DZ040km/W1vb4PneQiCALfbDYvFQnNJJBFONr1Wq4VCoZiYrNY0bH7SucRxHBVhkSQJBoMBRqMRwMl1MgwDSZIwGAwQj8dxcHAw8jY9onFAqD8ulws2m40Kp0w7JlG0fBVkWUa5XMb9+/eRTCZp2sButyMcDkOj0WAwGCCZTKLVaqFUKmF7e3uizSmSJCGbzVIBdFmWUSgUJiKGnE6ncevWLRiNxhOdZYuLi3R/kPeWzIFKpVJDUTQbqvEcDAaU81coFGAwGFAqldBoNGhYTAob5PPVahUOh4NSRnq93kjCzmkH0QwwmUyU6kNmAZHwTa1W0xeU5HGJR0WU2UeJwWBA0xlarRZ2ux0LCwu0V3ycPeo/FZC0TbfbRbPZhE6ng8FgQLVahSRJVOQkmUzSdFYul5toEwXh+BLRHVJUnYRG73FBcDKll2EYOBwOOmWWdAkSDQO9Xo9cLkfpS4RvfNaUA/Ppp5+O5SgmElDHB0YRCtDFixehUChQq9UoYfnn2nLGMAy8Xi9t4TObzZRwbrVaEYlEIMsyOp0O8vk8UqnU2EI4hmHAsizeffddzM/PIxgMAngyVG1vbw/ff//9WNYxw2ShUqnwzjvvYH19HTqdDplMBn/4wx8mLnB+HGQMOhE65nn+hLpapVJBvV5HpVLBnTt3KFf9LBib8SS5puflnMgfRYpN0xhejRMsy9J7wLIsHXXCsuyJ05GEJeMGx3FYXV3FtWvXYLPZkEwmcXBwgP/7v/8b+1pmmAzI4Efgh6F007Rnj0sePi8lSPYXoUueZ37V2KbUP52YP45pExeZNI6HZOPiRZ4FnU4H8XgckiRBp9NRMYYZfj4gqYZpxTj2zdiM5ww/HZACwbhmnc8wwzRiNjVqhhlmmOEcmBnPGWaYYYZzYGY8Z5hhhhnOgZnxnGGGGWY4B2bGc4YZZpjhHJgZzxlmmGGGc+C1qUoqlQocx8FgMFDFcdJaNsMMM8zwU8VrG09BELC6uor33nsPjUYD8Xgc//u//zsy7csZZphhhmnAUMN2o9GI+fl5/Nu//Ru8Xi8dvTDDDDPMMM0ggwp///vf480333yuHODTeG3Pk0yvGwwGNIQnM5RHNcZghhleFwzDYGFhAfV6/YS26yTAsiwd8EYG5xWLxYmt51VgGAYGgwE2mw0qlYrOZDpvj/g0wGKxIBgMwuFwYHd391R/w2sbTzI9s91ug2VZOgNGqVROTJ/zxw6NRgPgB7myacNxsQWFQkH7iI+PcJ52cReWZXH58mWk02kkEgm02+2RqI2fBkqlEiaTCRsbG3Qs8TQbTzIo8cKFC1TejWjzktEx0/zsnwbDMHC5XLh06RIUCgUdEfQqvLbxbDabiMfjuHfvHlZXV2G321/3K3+2IJMSf/vb34JhGBSLRfzlL3+ZurELXq8XXq8XoVAIc3NzyGQySKfT2NvbAwA6p2oUs5SGBaL5GAgE6MC1Bw8ejF1WjazjypUruHjxItLp9NQXW9VqNT788EMqhrywsIB33nkHqVQKsVgMt27dQrPZnNj8qrPCYDDA4XDA5XJhd3cXmUzmVNq0QxEGkSQJBwcHsNvtMBqN4DgOVqsVtVpt4gK5Wq0WoVCIzpAn0Ol0MJlMJ8aAkDlArVaLelOpVIpOOxwHyPwVk8kEg8GApaUlHBwcTFzf1Gg0wmg0wul0YnV1FTzP02mONpsNRqMRHo8HAJBIJBCJRKbaeMqyjFgshkAgAJ7ncenSJezt7U3EeGo0GlitVrAsS2fHTztYlgXDMGi1Wkin0ygWi3QS6MbGBr7//vupfv7AD+mSd955B6FQCIPBAI8fPz51CmcoxlOWZRSLRaRSKeh0OgSDQbhcLtRqNVQqlYnI8wMAz/NU7fxp46nX62EymU4MpyNjMI4bT47j0Gw2qfFstVon5gn1ej363zBAQnWlUgme5+H3+xGPxydqPImB9Hg88Hg88Pv9NLUA/DCP6vigsm63S6XqiEr3NHnPsiyjWq2i1+tBrVbTaQaTWAeJOMj/iRr6NN2vF6Hf76NareLg4ABWqxWCIFD92WmHQqGA2WxGMBiEyWRCo9FANps99USGoRnPZrOJe/fuoVwuIxgMUnV4URRxeHg4kRdhbW0Ny8vLVPH8ZZBlGSqVCgsLCyf+/Y033jihRRqJRE6MnMjlciiXy0ORZyOTEVOpFE3IB4NB3L59e6KbSa/XY3V1FRcuXADHca/cGE6nEzzPIxgM4saNG8hkMnQ66DSBFDcYhplYcZMclvV6HU6n80Q+eZrD3qfnacViMRwcHEClUkGj0fwoRulwHIdwOAyLxYJWq4V4PI5arXbqyQxDPWrJnPNsNgubzUY9lFKphHq9PvaJf3a7HW63+1SfzefzdCgUx3GwWCxwOp3PeKyhUAjBYJDmpR48eIDDw8OhaVsSA+1wOOBwOGC32+HxeDAYDFAqlYZyjbOAZVnMzc3BZrOdynACTzxVvV4PrVaLX//61yiVSjg8PMTXX389VVMfpwWiKOLo6Ajz8/PgOA56vR5qtXpqudL9fh8PHz7E5cuX6dx0pVKJTqdDG2WmPW9Lpr9eu3YNHMdhf38f3377LXq93qnv+VCNJ5lJdPfuXbz99tvQarWwWq0Ih8PY3d0de/5ToVCcCMVSqRTi8fhzQ+xarYZGo4FutwuVSgWDwQCe5+n3HJ9qSSDLMjKZzFCNmizLdGhev9+n4w4myVwIBAIwmUzUcJLcIBmVrFar6frIYUNGiJC1y7KMGzduTLXx1Ol00Gg0Y58ESoYmAk8OHoPBAL/fj2g0OnXeOvBkvdFoFAsLC+B5HhqNBgaDAb1eD91udyoN/tOw2+2Ui55MJpFKpVCpVM609qEneZrNJu7fv4/5+Xm4XC7o9XosLCwgnU6j0WhM9EQiY0qfl4Pt9/t0TCkJnYjhValUMJlMWFpaop8nVJyjo6Ohz/kmhrzValHjOamwktA49Ho9/bft7W2Uy2WoVKoThSPgiQEiOS9ibDmOg8fjoS28oy6+kdk1z/OSjzMXnv6MRqOhHtQ4QYwnmeel0+kQCoWQTCan0nhKkoR0Oo1qtQq73Q6NRgNBEKYyNfM8qNVqOJ1OeL1eMAyDaDRKU0tnwdCNJ5mR/M0332BjYwMbGxsIhUI4ODhAp9OZ6OiGfr+Pdrv9yooqKRYdLxLVajUkEolxLBMAUCgUkEgkwPM8PB4P6vU6stns2K5/HE9zNlOpFF3L/v7+ic/+y7/8C2w2G/R6PYxG44nBf//4j/+ImzdvUkrTqMDz/Il598cRjUYhiiIYhoHRaIRaraY/K5fLE8nVkYo1cSw0Gg3C4TCl/EwrcrkceJ7H3Nwc1tfX6SjxaQbLslhYWMDS0hK8Xi8ajQYeP358Lrs0svJiOp2mHsna2hotxIzTeCYSCeh0Onptr9eLK1eu0PBxmsOLbrdLPeTjkwqnAcfv29P38G9/+xtCoRDC4fAJ48UwDHieh81mQ6lUGjoJnISOFy9ehNvthsFgOGEYCY4XBNxuNziOoz8jhZpxR0f9fh/NZhORSIR66Hq9HoIg0Hnu04hCoQCLxYL5+Xl4vV5kMhnkcjlUKpWJrEcQBFgsFrjdbnS7XSSTSWSzWfq8GYaBSqVCKBSiaYZ0Og1RFM+VThrZjmy328jlctBqtQiHwxAEAXa7HVqtdmyJ8FwuB71eD6/XC41GA57nEQgEcHh4iHw+P/bw7CxoNBool8vo9/vgOO4ENWiSeNVzKxQKUKvVtOpqt9vBcRxYloVWq4Xb7Ua73aZGbFjvAXnO8/Pz1ON9Hs9Qo9HQQ/3psJ3QVcbdqklYFtlsFhaLhXrEdrsdzWZzao1npVJBPp9HtVqFVquFTqc7cRiNCwzDQKfTIRAIwOVywel0otfrUcZCNpuFLMvgOA42mw1OpxNqtRqiKCKRSJw7TztSd6ZUKqHb7eLy5csQBIFWj5PJ5FhoGOl0GrIsY35+nnojGo0GFy9exK1bt6baeJZKJSiVSrTbbUqYnxRd6WlayquQz+dRr9eRTCbxwQcfUA9Pp9NhaWkJPM/j8PAQjUZjaO+BIAhYW1uD1+tFqVRCJpPB48ePn/mc2WyGXq+HwWCAyWSC1WqlHrLX60W73Z5In7skSUgmk/D7/dRDCgQCaDQayGQyY1/PaVAoFMCyLCKRCC5cuAC1Wj0R48myLNxuN9544w14PB6oVCoAT3LtHMehXC6j1+vBYrHQd6TdbqNUKuHRo0fntgMjNZ6SJKHT6SAajUKv18NqteLatWv44x//iFarNXJD0O12USwW8e233+JXv/oVDAYDWJaF3W6HTqdDtVqd2upvp9NBrVZDMplEMBiE2+3G/Pz82DmzsiwjGo1CqVSeemOQJgLC/W00GlhfXwfwg/7rMNkDCoUCWq0WRqMRpVIJX331FaLR6HNz26SQRbyVX/7yl7h48eKJn00K7XabeuMMw8Dj8SCdTk9sPadBpVLBN998g6WlJUq1yuVyaLfbY0l/EF2Af/7nf4Zerz+R3vJ6vdTTvHnzJgRBQDgcBsuytKZw1gr7iWsP6494EQaDATKZDMLhMKxWK1wuFywWC2RZHksrXKfTQTKZRKVSoaGkzWbD/Pw8GIbB0dHRyNdwXgwGA1QqFfj9fhgMBng8HkQikbEbz1gsRnmnZ/k9WZaRz+dhNBppFwfDMOA4DktLS3jw4MFQus+USiU1nrlcjjIVXuXVSpKEYrGIQqEAm80Gk8k0sdZIWZYpR9psNsPhcFBPjuO4sXaYEYoZ8c55nofX66UKasdzmqSTDHjSaeZwOLC2tobHjx+PJd1A6JB6vR7dbhfZbBaHh4e0g9BoNMLtduPq1av0Hen1eshkMkgkEq+1l0ZuPCVJQqFQQK1WA8/zMJlM8Hg86Pf7tG1vlOj3+yiXy8hkMrQNz2g0wufzod1ujy2FcB4Q40nynjabbSIFjUKhcGLz8jyPZrNJ21hfhkajgVqtBlEUqfEkbXHD8j7JZtdoNJBlGYPB4FTPtN/v0xZiYjwnqUHbaDRQLBZRKpXgcDhOeNTjUioi1zSbzbDZbLBarbDb7VheXka73UaxWEQ+n6efbzabSKVSYBgGarWaavrGYrFTvR+vC51OB5vNBoVCgVarhWw2i3v37tH1E7WkxcVFSkEkudrXLV6PxXhmMhlsbW2h2+3i4sWL+Oijj3Dz5k3cv39/bNJbX331Fa5cuQKe58FxHHw+H3q9HnZ3d1/LdR8l+v0+EokEms0mdDodeJ6HQqGYSJ/48et9/PHH2N7exu3bt0/d+HCc7iSKIm7dujW0yGMwGKDb7aLdbiMcDuP27dun/t1Wq0U9J57nJy7KUa/XKW+YHPYrKyv4+9//PpZnbrFYsLi4iGvXrsFgMADAM3xdIgBz/GcECoWCRpeiKI7c+yTVfoZhUK1Wkc/nUS6XUS6XEYlEYLFYsLKyAo1GQ/fO9vY2UqnUazftjI3/Eo1GoVAosLCwALVaTXl44zKerVYLlUoFuVwOXq8XKpUKdrsdb775Jm7cuDG2HM1ZQCqwe3t7CAaDsNvt8Pl8yGQyE63AWiwWLC8vQ6fT4a9//Ss6nc4LPT2XywWfzwebzXZiow3TEPR6PdRqNeTzeRgMBgQCAbTbbUSj0Vf+bjqdhkKhwMrKCgwGA23pzWQyEzlQ6/X6iY41q9WK5eVlXL9+fSzXD4fDmJubo4dItVqlwjh7e3vPkOCJIhTRM9DpdDAajdjY2ADHcbh///5I10uM5Pz8PHK5HHK53ImfDwYD5PN5uFwu2rzhcDhofvR1ah5jM56iKKJYLCIajWJxcZHysRKJxFg8KUmSkM/nsbOzA4VCQYncgUAA8Xj81Bp+44Qsy+j1eqhWq2i321Cr1fD7/ajVamM1niQU7vf7UCqVNEnv8/mwtrZGhVKKxSI9gEjF2O12U8UiWZZRqVSQyWSG2sYnyzJVMw8EArDZbKhWq6cynq1Wiwq7OJ1OmM1m+P1+Sm8ZN0RRRLVaRaPRgE6no63CWq32VHnc1wWhxbEsi1qthmg0ilwuh16vh1Qq9Ux3mEqlQrFYRLFYhMvlgsPhoMyacThG/X6fRjCERQH8QF+yWCwnKGlEAnAYLc9DM57HF0daHI+DCFvcv38foVAIdrsdg8GAFg3G8aIS3UGVSkVvrM/nw+rqKnq93sTbR1+Eer0OURTBsizC4TBisdiJvNMoIcsyZU20Wi1KmSKb7Be/+AXVDCDaAKSv3WAwUKYA8KR4d3R0hIODg6Hnw0jubWNjAzabDc1m81T5YaJoFIvFKMl6YWEBd+/enYgafrPZpE0EZJOrVCoIgoB8Pj82vVFZllEoFPDo0SMcHh6+9D6mUikolUoEg0HMz89jfX0dgiBAEASoVKqRtuMen2Dg8XjQarWog+R0OuHz+SjLhvxd5POvy6wYmvEkJHSFQoFisUgT3gRkAyaTSVo8cLlcWF5exuPHj8em+UlysMvLy5QSsrCwgEajgXa7PZXUkGw2C5fLBYZhoNVqx97nXq/Xcfv2bWSzWXzwwQcwGo30ZTxe0eR5HkdHR5Q35/P5IAgC1Go1JEnC9evXsb+/j1wuN/RDiujGLi0twefz0VCSjIh4GZrNJr755husrq7CarVSIRhRFCdSTOx2u0gkEnA4HJQh8otf/AJfffUVksnkyK9PKFtE3ek0h1C/38fh4SHteb927Ro8Hg8+/vhjfP755yOjBIqiiEKhgG63C4vFgo2NDfh8PoiiCEEQThQm+/0+Go0G/ud//ge1Wu21+/DPZDxJqKtUKtFsNqnsmF6vpyryLMuiWq3CbDY/Yzx7vR7a7Tb0ej1thTMajWM1BoPBAOl0Gru7u+h0OggEAuA4Dn6/H4PBgG7saSogiaJIKSKkskyS3+OALMuo1WrI5XKo1+v0+RGQgWCLi4uw2+1U1otQSMgJf3BwgHK5PBLvnnTpPH78mCpivf322/jiiy8giuJLrynLMq0kk8LCJEEmGqyvr0Or1YJlWbhcrrEQ0Pf392kOm4ymqFarpzLaRJs0l8uh2WzCbDZjfn4egUAA2Wx2JKkmQp+KRqPw+XyUusTzPNRqNX2W/X4fpVIJsVgMzWZzKMb81MaTYRh4vV5YLBZoNBrUajUYjUaaILbb7VCpVJBlGYIgQKfTPVMgIFp/AGgYOMoec5LrINcm66jX6zg6OqI5OZL0Pq4kP03Gs9/v08FgbrcbarUaarV6rCMjut0uFUexWq20i4NAqVRCEAQYDAaaw9bpdJAkCaIoolKpoFQqjbSri6j95HI5aDQahEIhCIJA1/AikFCuXC6D5/nnCoqME/1+H8Vi8YSjQfaaWq0eqXJRoVCg1/P5fHA6najX66eerSRJEiqVCrLZLNRqNQRBgNvtRqPRGEl6TpIktNttHB0dUbtz/JAhQkWlUgnZbBbRaPRMmp0vw5mM5+bmJh36dBzkxKnVanRzvOxlJSFypVLB4eHhyDYUx3FQKpXU4z1+wwjZfHFxkXrUdrsdDodjKqXASqUStra2qE4Az/Njn7fTaDTw2WefYX5+Hlqtlt7P44ckEeMg+cJms4lYLIYbN26MXIqOEM3v3LmDarWKjz76CBcvXsTjx48RiURe+fvpdJqmISYJYsiLxSI4jqP8WCKqMsrQvdPpoFwu4+joCFevXsXi4iJMJhO2trZOlacmxvPrr7/G2toafvnLXyIQCNCJC6N4B/r9Ph49ekTnUR23T71eD5FIBNevX0exWBzqvj618ZRlGd9++y0CgQAEQaCVv0qlQpVJGo3GqQ3h8ULEsMM4lmURCARw9epVOBwO1Go1fPbZZ6hUKiduXrPZxN7eHnXxpxmdTgeVSgW9Xg9Op3OiPc+3b9+Gx+OhYd3TKJVKyOfzyGazKJfLKJVKI8lzvgjE6GQyGczPzyOfz5/KeJJuGSLIMqnog6QgHjx4gMFgQNtHvV4vWq3WyPOeRNQnmUxSWs/m5iZu3rx56tpEtVpFPB7H/fv3sbKygkqlQgdFDhuyLKPRaOD7779HtVrF2toa9Ho9WJZFq9XCl19+OZJW7DMZT1Ls0el06PV61CUmm/plfL9xQ5ZlaLVaWCwWaLVarK2tIRaLIZVKod/vQ5IkKgO2srJCc68WiwXZbHbqPE/CZUylUtBqtRMd8RyPx1Gv11EoFKDT6SilhkAUReRyORwcHEAURToTfVwYDAaUuhQKhU6dw9RqtWAYhqr4Tzp1UywW6YGvVqthtVpp3nuUBxG5f48ePaJaEHNzc6hUKkgmk89wKZ8H4oHu7+9jYWEBLpeL0p1GoaomSRKy2Sx6vR5arRbC4TC0Wi1EURy6ghfBmQpGhUJhomLGpwXpmye0Gb1ej42NDahUKnQ6HYiiSH+Wz+chiiKtYpNq67SBJMaPjo6wvLwMm80GpVI5kW6jTCaDQqGAdDoNv99/QskGAFWsicfjY10XAUkjZbNZ+P3+U/8ex3GQJAnlcnkqpn1Wq1VUKhXUajWaWiK0m1EaTxIRPnz4EIIgUGbMysoK5Uuf5t40Gg1Eo1EUCgUYDAZa9BpVW3a5XEa1WkUikYAkSbBYLOj3+yM7CKdHYXeIkGUZuVwO0WgUHMchGAzCbDbj2rVr2NzcRKlUQjqdRq/XozQbMulzWoduAaDGPhwOw2AwYGFhAQcHB2ObKX8cpC/8888/xyeffPLM1NFJo91uIxaLYWNj49TPM5FIIBaLoV6vTwXft9Pp4PDwEL1eD7/5zW/w4MED7O3tjW1tnU4Hf/vb37C9vY2PPvqIHipGo/FUDSUkuvuP//gPetjXarWRRiHE8H/99df030a1n3+SxpNge3sb1WqVynupVCoqSkEKHgqFAgqFguYUI5HI1Op8koJIr9ej4fKk52MTQVmiF0AqrZPWoOz1eigWi/jTn/70XFHk5yGXy50gUU8DGo0GDg8P8e///u+0WWKchr3b7SKfz+Ozzz6j+gFnVXgi3zFOUZtxOEA/aeNZrVYhyzL29/ep6g5RfyFq4oTDWK/XaUVwmjbPcZDEeDweR6VSQaPRmKiXTNpHSWMByX+nUqlTG6xRgXggZ5k7NU7Zt9Oi1+vR7rdJgFCBUqnUa33HtDokrwPm008/nc4Ydci4fPkyLWzYbDYEAgHo9XrIsoz79+/TfO7u7u6klzrDDDP8CPCT9jyP48GDBydUxInCCgBafZ+GPNcMM8zw48DPxnhO67iNGWaY4ceJ4Q2SmWGGGWb4GWFmPGeYYYYZzoGZ8ZxhhhlmOAdmxnOGGWaY4RyYGc8ZZphhhnPg/wE86AW8/EAvNAAAAABJRU5ErkJggg==\" y=\"-10.08269\"/>\n   </g>\n   <g id=\"matplotlib.axis_1\">\n    <g id=\"xtick_1\">\n     <g id=\"line2d_1\">\n      <defs>\n       <path d=\"M 0 0 \nL 0 3.5 \n\" id=\"m406d843103\" style=\"stroke:#000000;stroke-width:0.8;\"/>\n      </defs>\n      <g>\n       <use style=\"stroke:#000000;stroke-width:0.8;\" x=\"27.616736\" xlink:href=\"#m406d843103\" y=\"96.08269\"/>\n      </g>\n     </g>\n     <g id=\"text_1\">\n      <!-- 0 -->\n      <g transform=\"translate(24.435486 110.681127)scale(0.1 -0.1)\">\n       <defs>\n        <path d=\"M 31.78125 66.40625 \nQ 24.171875 66.40625 20.328125 58.90625 \nQ 16.5 51.421875 16.5 36.375 \nQ 16.5 21.390625 20.328125 13.890625 \nQ 24.171875 6.390625 31.78125 6.390625 \nQ 39.453125 6.390625 43.28125 13.890625 \nQ 47.125 21.390625 47.125 36.375 \nQ 47.125 51.421875 43.28125 58.90625 \nQ 39.453125 66.40625 31.78125 66.40625 \nz\nM 31.78125 74.21875 \nQ 44.046875 74.21875 50.515625 64.515625 \nQ 56.984375 54.828125 56.984375 36.375 \nQ 56.984375 17.96875 50.515625 8.265625 \nQ 44.046875 -1.421875 31.78125 -1.421875 \nQ 19.53125 -1.421875 13.0625 8.265625 \nQ 6.59375 17.96875 6.59375 36.375 \nQ 6.59375 54.828125 13.0625 64.515625 \nQ 19.53125 74.21875 31.78125 74.21875 \nz\n\" id=\"DejaVuSans-48\"/>\n       </defs>\n       <use xlink:href=\"#DejaVuSans-48\"/>\n      </g>\n     </g>\n    </g>\n    <g id=\"xtick_2\">\n     <g id=\"line2d_2\">\n      <g>\n       <use style=\"stroke:#000000;stroke-width:0.8;\" x=\"96.790289\" xlink:href=\"#m406d843103\" y=\"96.08269\"/>\n      </g>\n     </g>\n     <g id=\"text_2\">\n      <!-- 50 -->\n      <g transform=\"translate(90.427789 110.681127)scale(0.1 -0.1)\">\n       <defs>\n        <path d=\"M 10.796875 72.90625 \nL 49.515625 72.90625 \nL 49.515625 64.59375 \nL 19.828125 64.59375 \nL 19.828125 46.734375 \nQ 21.96875 47.46875 24.109375 47.828125 \nQ 26.265625 48.1875 28.421875 48.1875 \nQ 40.625 48.1875 47.75 41.5 \nQ 54.890625 34.8125 54.890625 23.390625 \nQ 54.890625 11.625 47.5625 5.09375 \nQ 40.234375 -1.421875 26.90625 -1.421875 \nQ 22.3125 -1.421875 17.546875 -0.640625 \nQ 12.796875 0.140625 7.71875 1.703125 \nL 7.71875 11.625 \nQ 12.109375 9.234375 16.796875 8.0625 \nQ 21.484375 6.890625 26.703125 6.890625 \nQ 35.15625 6.890625 40.078125 11.328125 \nQ 45.015625 15.765625 45.015625 23.390625 \nQ 45.015625 31 40.078125 35.4375 \nQ 35.15625 39.890625 26.703125 39.890625 \nQ 22.75 39.890625 18.8125 39.015625 \nQ 14.890625 38.140625 10.796875 36.28125 \nz\n\" id=\"DejaVuSans-53\"/>\n       </defs>\n       <use xlink:href=\"#DejaVuSans-53\"/>\n       <use x=\"63.623047\" xlink:href=\"#DejaVuSans-48\"/>\n      </g>\n     </g>\n    </g>\n    <g id=\"xtick_3\">\n     <g id=\"line2d_3\">\n      <g>\n       <use style=\"stroke:#000000;stroke-width:0.8;\" x=\"165.963843\" xlink:href=\"#m406d843103\" y=\"96.08269\"/>\n      </g>\n     </g>\n     <g id=\"text_3\">\n      <!-- 100 -->\n      <g transform=\"translate(156.420093 110.681127)scale(0.1 -0.1)\">\n       <defs>\n        <path d=\"M 12.40625 8.296875 \nL 28.515625 8.296875 \nL 28.515625 63.921875 \nL 10.984375 60.40625 \nL 10.984375 69.390625 \nL 28.421875 72.90625 \nL 38.28125 72.90625 \nL 38.28125 8.296875 \nL 54.390625 8.296875 \nL 54.390625 0 \nL 12.40625 0 \nz\n\" id=\"DejaVuSans-49\"/>\n       </defs>\n       <use xlink:href=\"#DejaVuSans-49\"/>\n       <use x=\"63.623047\" xlink:href=\"#DejaVuSans-48\"/>\n       <use x=\"127.246094\" xlink:href=\"#DejaVuSans-48\"/>\n      </g>\n     </g>\n    </g>\n    <g id=\"xtick_4\">\n     <g id=\"line2d_4\">\n      <g>\n       <use style=\"stroke:#000000;stroke-width:0.8;\" x=\"235.137397\" xlink:href=\"#m406d843103\" y=\"96.08269\"/>\n      </g>\n     </g>\n     <g id=\"text_4\">\n      <!-- 150 -->\n      <g transform=\"translate(225.593647 110.681127)scale(0.1 -0.1)\">\n       <use xlink:href=\"#DejaVuSans-49\"/>\n       <use x=\"63.623047\" xlink:href=\"#DejaVuSans-53\"/>\n       <use x=\"127.246094\" xlink:href=\"#DejaVuSans-48\"/>\n      </g>\n     </g>\n    </g>\n    <g id=\"xtick_5\">\n     <g id=\"line2d_5\">\n      <g>\n       <use style=\"stroke:#000000;stroke-width:0.8;\" x=\"304.31095\" xlink:href=\"#m406d843103\" y=\"96.08269\"/>\n      </g>\n     </g>\n     <g id=\"text_5\">\n      <!-- 200 -->\n      <g transform=\"translate(294.7672 110.681127)scale(0.1 -0.1)\">\n       <defs>\n        <path d=\"M 19.1875 8.296875 \nL 53.609375 8.296875 \nL 53.609375 0 \nL 7.328125 0 \nL 7.328125 8.296875 \nQ 12.9375 14.109375 22.625 23.890625 \nQ 32.328125 33.6875 34.8125 36.53125 \nQ 39.546875 41.84375 41.421875 45.53125 \nQ 43.3125 49.21875 43.3125 52.78125 \nQ 43.3125 58.59375 39.234375 62.25 \nQ 35.15625 65.921875 28.609375 65.921875 \nQ 23.96875 65.921875 18.8125 64.3125 \nQ 13.671875 62.703125 7.8125 59.421875 \nL 7.8125 69.390625 \nQ 13.765625 71.78125 18.9375 73 \nQ 24.125 74.21875 28.421875 74.21875 \nQ 39.75 74.21875 46.484375 68.546875 \nQ 53.21875 62.890625 53.21875 53.421875 \nQ 53.21875 48.921875 51.53125 44.890625 \nQ 49.859375 40.875 45.40625 35.40625 \nQ 44.1875 33.984375 37.640625 27.21875 \nQ 31.109375 20.453125 19.1875 8.296875 \nz\n\" id=\"DejaVuSans-50\"/>\n       </defs>\n       <use xlink:href=\"#DejaVuSans-50\"/>\n       <use x=\"63.623047\" xlink:href=\"#DejaVuSans-48\"/>\n       <use x=\"127.246094\" xlink:href=\"#DejaVuSans-48\"/>\n      </g>\n     </g>\n    </g>\n   </g>\n   <g id=\"matplotlib.axis_2\">\n    <g id=\"ytick_1\">\n     <g id=\"line2d_6\">\n      <defs>\n       <path d=\"M 0 0 \nL -3.5 0 \n\" id=\"m8a3dc83cb6\" style=\"stroke:#000000;stroke-width:0.8;\"/>\n      </defs>\n      <g>\n       <use style=\"stroke:#000000;stroke-width:0.8;\" x=\"26.925\" xlink:href=\"#m8a3dc83cb6\" y=\"10.999219\"/>\n      </g>\n     </g>\n     <g id=\"text_6\">\n      <!-- 0 -->\n      <g transform=\"translate(13.5625 14.798437)scale(0.1 -0.1)\">\n       <use xlink:href=\"#DejaVuSans-48\"/>\n      </g>\n     </g>\n    </g>\n    <g id=\"ytick_2\">\n     <g id=\"line2d_7\">\n      <g>\n       <use style=\"stroke:#000000;stroke-width:0.8;\" x=\"26.925\" xlink:href=\"#m8a3dc83cb6\" y=\"38.66864\"/>\n      </g>\n     </g>\n     <g id=\"text_7\">\n      <!-- 20 -->\n      <g transform=\"translate(7.2 42.467859)scale(0.1 -0.1)\">\n       <use xlink:href=\"#DejaVuSans-50\"/>\n       <use x=\"63.623047\" xlink:href=\"#DejaVuSans-48\"/>\n      </g>\n     </g>\n    </g>\n    <g id=\"ytick_3\">\n     <g id=\"line2d_8\">\n      <g>\n       <use style=\"stroke:#000000;stroke-width:0.8;\" x=\"26.925\" xlink:href=\"#m8a3dc83cb6\" y=\"66.338062\"/>\n      </g>\n     </g>\n     <g id=\"text_8\">\n      <!-- 40 -->\n      <g transform=\"translate(7.2 70.13728)scale(0.1 -0.1)\">\n       <defs>\n        <path d=\"M 37.796875 64.3125 \nL 12.890625 25.390625 \nL 37.796875 25.390625 \nz\nM 35.203125 72.90625 \nL 47.609375 72.90625 \nL 47.609375 25.390625 \nL 58.015625 25.390625 \nL 58.015625 17.1875 \nL 47.609375 17.1875 \nL 47.609375 0 \nL 37.796875 0 \nL 37.796875 17.1875 \nL 4.890625 17.1875 \nL 4.890625 26.703125 \nz\n\" id=\"DejaVuSans-52\"/>\n       </defs>\n       <use xlink:href=\"#DejaVuSans-52\"/>\n       <use x=\"63.623047\" xlink:href=\"#DejaVuSans-48\"/>\n      </g>\n     </g>\n    </g>\n    <g id=\"ytick_4\">\n     <g id=\"line2d_9\">\n      <g>\n       <use style=\"stroke:#000000;stroke-width:0.8;\" x=\"26.925\" xlink:href=\"#m8a3dc83cb6\" y=\"94.007483\"/>\n      </g>\n     </g>\n     <g id=\"text_9\">\n      <!-- 60 -->\n      <g transform=\"translate(7.2 97.806702)scale(0.1 -0.1)\">\n       <defs>\n        <path d=\"M 33.015625 40.375 \nQ 26.375 40.375 22.484375 35.828125 \nQ 18.609375 31.296875 18.609375 23.390625 \nQ 18.609375 15.53125 22.484375 10.953125 \nQ 26.375 6.390625 33.015625 6.390625 \nQ 39.65625 6.390625 43.53125 10.953125 \nQ 47.40625 15.53125 47.40625 23.390625 \nQ 47.40625 31.296875 43.53125 35.828125 \nQ 39.65625 40.375 33.015625 40.375 \nz\nM 52.59375 71.296875 \nL 52.59375 62.3125 \nQ 48.875 64.0625 45.09375 64.984375 \nQ 41.3125 65.921875 37.59375 65.921875 \nQ 27.828125 65.921875 22.671875 59.328125 \nQ 17.53125 52.734375 16.796875 39.40625 \nQ 19.671875 43.65625 24.015625 45.921875 \nQ 28.375 48.1875 33.59375 48.1875 \nQ 44.578125 48.1875 50.953125 41.515625 \nQ 57.328125 34.859375 57.328125 23.390625 \nQ 57.328125 12.15625 50.6875 5.359375 \nQ 44.046875 -1.421875 33.015625 -1.421875 \nQ 20.359375 -1.421875 13.671875 8.265625 \nQ 6.984375 17.96875 6.984375 36.375 \nQ 6.984375 53.65625 15.1875 63.9375 \nQ 23.390625 74.21875 37.203125 74.21875 \nQ 40.921875 74.21875 44.703125 73.484375 \nQ 48.484375 72.75 52.59375 71.296875 \nz\n\" id=\"DejaVuSans-54\"/>\n       </defs>\n       <use xlink:href=\"#DejaVuSans-54\"/>\n       <use x=\"63.623047\" xlink:href=\"#DejaVuSans-48\"/>\n      </g>\n     </g>\n    </g>\n   </g>\n   <g id=\"patch_3\">\n    <path d=\"M 26.925 96.08269 \nL 26.925 10.307483 \n\" style=\"fill:none;stroke:#000000;stroke-linecap:square;stroke-linejoin:miter;stroke-width:0.8;\"/>\n   </g>\n   <g id=\"patch_4\">\n    <path d=\"M 361.725 96.08269 \nL 361.725 10.307483 \n\" style=\"fill:none;stroke:#000000;stroke-linecap:square;stroke-linejoin:miter;stroke-width:0.8;\"/>\n   </g>\n   <g id=\"patch_5\">\n    <path d=\"M 26.925 96.08269 \nL 361.725 96.08269 \n\" style=\"fill:none;stroke:#000000;stroke-linecap:square;stroke-linejoin:miter;stroke-width:0.8;\"/>\n   </g>\n   <g id=\"patch_6\">\n    <path d=\"M 26.925 10.307483 \nL 361.725 10.307483 \n\" style=\"fill:none;stroke:#000000;stroke-linecap:square;stroke-linejoin:miter;stroke-width:0.8;\"/>\n   </g>\n  </g>\n </g>\n <defs>\n  <clipPath id=\"paec203cf5b\">\n   <rect height=\"85.775207\" width=\"334.8\" x=\"26.925\" y=\"10.307483\"/>\n  </clipPath>\n </defs>\n</svg>\n",
      "image/png": "[encoded data removed]"
     },
     "metadata": {
      "needs_background": "light"
     }
    }
   ],
   "source": [
    "from matplotlib.pyplot import imshow\n",
    "dataiter = iter(testloader)\n",
    "images, labels = dataiter.next()\n",
    "\n",
    "# print images\n",
    "matplotlib_imshow(torchvision.utils.make_grid(images))\n",
    "print('GroundTruth: ', ' '.join('%5s' % classes[labels[j]] for j in range(4)))"
   ]
  },
  {
   "cell_type": "code",
   "execution_count": 26,
   "metadata": {},
   "outputs": [
    {
     "output_type": "execute_result",
     "data": {
      "text/plain": [
       "<All keys matched successfully>"
      ]
     },
     "metadata": {},
     "execution_count": 26
    }
   ],
   "source": [
    "infnet = MyModule()\n",
    "infnet.load_state_dict(torch.load(PATH))"
   ]
  },
  {
   "cell_type": "code",
   "execution_count": 27,
   "metadata": {},
   "outputs": [],
   "source": [
    "outputs = net(images)"
   ]
  },
  {
   "cell_type": "code",
   "execution_count": 29,
   "metadata": {},
   "outputs": [
    {
     "output_type": "stream",
     "name": "stdout",
     "text": [
      "Predicted:  Sneaker Pullover Trouser T-shirt/top\n"
     ]
    }
   ],
   "source": [
    "_, predicted = torch.max(outputs, 1)\n",
    "\n",
    "print('Predicted: ', ' '.join('%5s' % classes[predicted[j]]\n",
    "                              for j in range(4)))"
   ]
  },
  {
   "cell_type": "code",
   "execution_count": 30,
   "metadata": {},
   "outputs": [
    {
     "output_type": "stream",
     "name": "stdout",
     "text": [
      "Accuracy of the network on the 10000 test images: 97 %\n"
     ]
    }
   ],
   "source": [
    "correct = 0\n",
    "total = 0\n",
    "# since we're not training, we don't need to calculate the gradients for our outputs\n",
    "with torch.no_grad():\n",
    "    for data in testloader:\n",
    "        images, labels = data\n",
    "        # calculate outputs by running images through the network\n",
    "        outputs = net(images)\n",
    "        # the class with the highest energy is what we choose as prediction\n",
    "        _, predicted = torch.max(outputs.data, 1)\n",
    "        total += labels.size(0)\n",
    "        correct += (predicted == labels).sum().item()\n",
    "\n",
    "print('Accuracy of the network on the 10000 test images: %d %%' % (\n",
    "    100 * correct / total))"
   ]
  },
  {
   "cell_type": "code",
   "execution_count": 31,
   "metadata": {},
   "outputs": [
    {
     "output_type": "stream",
     "name": "stdout",
     "text": [
      "Accuracy for class T-shirt/top is: 99.1 %\nAccuracy for class Trouser is: 98.9 %\nAccuracy for class Pullover is: 97.8 %\nAccuracy for class Dress is: 97.4 %\nAccuracy for class Coat  is: 96.2 %\nAccuracy for class Sandal is: 94.6 %\nAccuracy for class Shirt is: 98.0 %\nAccuracy for class Sneaker is: 96.3 %\nAccuracy for class Bag   is: 97.0 %\nAccuracy for class Ankle Boot is: 94.3 %\n"
     ]
    }
   ],
   "source": [
    "# prepare to count predictions for each class\n",
    "correct_pred = {classname: 0 for classname in classes}\n",
    "total_pred = {classname: 0 for classname in classes}\n",
    "\n",
    "# again no gradients needed\n",
    "with torch.no_grad():\n",
    "    for data in testloader:\n",
    "        images, labels = data\n",
    "        outputs = net(images)\n",
    "        _, predictions = torch.max(outputs, 1)\n",
    "        # collect the correct predictions for each class\n",
    "        for label, prediction in zip(labels, predictions):\n",
    "            if label == prediction:\n",
    "                correct_pred[classes[label]] += 1\n",
    "            total_pred[classes[label]] += 1\n",
    "\n",
    "\n",
    "# print accuracy for each class\n",
    "for classname, correct_count in correct_pred.items():\n",
    "    accuracy = 100 * float(correct_count) / total_pred[classname]\n",
    "    print(\"Accuracy for class {:5s} is: {:.1f} %\".format(classname,\n",
    "                                                   accuracy))"
   ]
  },
  {
   "cell_type": "markdown",
   "source": [
    "<a style='text-decoration:none;line-height:16px;display:flex;color:#5B5B62;padding:10px;justify-content:end;' href='https://deepnote.com?utm_source=created-in-deepnote-cell&projectId=3fe7cd35-e1c3-486d-8a85-6e94f9a0da39' target=\"_blank\">\n",
    "<img alt='Created in deepnote.com' style='display:inline;max-height:16px;margin:0px;margin-right:7.5px;' src='data:image/svg+xml;base64,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' > </img>\n",
    "Created in <span style='font-weight:600;margin-left:4px;'>Deepnote</span></a>"
   ],
   "metadata": {
    "tags": [],
    "created_in_deepnote_cell": true,
    "deepnote_cell_type": "markdown"
   }
  },
  {
   "source": [
    "## Reference"
   ],
   "cell_type": "markdown",
   "metadata": {}
  },
  {
   "source": [
    "https://github.com/fepegar/torchio"
   ],
   "cell_type": "markdown",
   "metadata": {}
  }
 ],
 "nbformat": 4,
 "nbformat_minor": 2,
 "metadata": {
  "language_info": {
   "codemirror_mode": {
    "name": "ipython",
    "version": 3
   },
   "file_extension": ".py",
   "mimetype": "text/x-python",
   "name": "python",
   "nbconvert_exporter": "python",
   "pygments_lexer": "ipython3",
   "version": "3.8.5"
  },
  "orig_nbformat": 2,
  "kernelspec": {
   "name": "python385jvsc74a57bd0602498ca149e7402fd7fdfc82a04f25602300a5b5e8c4cb4fd827749d3458d71",
   "display_name": "Python 3.8.5 64-bit ('pytorch': conda)"
  },
  "metadata": {
   "interpreter": {
    "hash": "602498ca149e7402fd7fdfc82a04f25602300a5b5e8c4cb4fd827749d3458d71"
   }
  },
  "deepnote_notebook_id": "34fc9904-79c2-4463-891b-f5cc28ab7185",
  "deepnote": {},
  "deepnote_execution_queue": []
 }
}